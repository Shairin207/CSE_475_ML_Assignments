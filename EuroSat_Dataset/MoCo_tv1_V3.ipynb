{
 "cells": [
  {
   "cell_type": "markdown",
   "id": "c941a02c",
   "metadata": {
    "papermill": {
     "duration": 0.006219,
     "end_time": "2025-08-16T08:40:42.480787",
     "exception": false,
     "start_time": "2025-08-16T08:40:42.474568",
     "status": "completed"
    },
    "tags": []
   },
   "source": [
    "# **Import Libraries**"
   ]
  },
  {
   "cell_type": "code",
   "execution_count": 1,
   "id": "330ae964",
   "metadata": {
    "execution": {
     "iopub.execute_input": "2025-08-16T08:40:42.492112Z",
     "iopub.status.busy": "2025-08-16T08:40:42.491859Z",
     "iopub.status.idle": "2025-08-16T08:40:51.274175Z",
     "shell.execute_reply": "2025-08-16T08:40:51.273583Z"
    },
    "papermill": {
     "duration": 8.789597,
     "end_time": "2025-08-16T08:40:51.275609",
     "exception": false,
     "start_time": "2025-08-16T08:40:42.486012",
     "status": "completed"
    },
    "tags": []
   },
   "outputs": [],
   "source": [
    "import torch\n",
    "import torch.nn as nn\n",
    "import torch.nn.functional as F\n",
    "import torch.optim as optim\n",
    "import torchvision\n",
    "from torchvision.datasets import ImageFolder\n",
    "from torchvision import transforms\n",
    "from torchvision import datasets, transforms, models\n",
    "from torch.utils.data import DataLoader, random_split, Dataset\n",
    "import matplotlib.pyplot as plt\n",
    "from tqdm import tqdm\n",
    "import os\n",
    "import copy\n",
    "import numpy as np"
   ]
  },
  {
   "cell_type": "code",
   "execution_count": 2,
   "id": "76f9ced8",
   "metadata": {
    "execution": {
     "iopub.execute_input": "2025-08-16T08:40:51.287107Z",
     "iopub.status.busy": "2025-08-16T08:40:51.286800Z",
     "iopub.status.idle": "2025-08-16T08:40:51.291822Z",
     "shell.execute_reply": "2025-08-16T08:40:51.291228Z"
    },
    "papermill": {
     "duration": 0.01173,
     "end_time": "2025-08-16T08:40:51.292809",
     "exception": false,
     "start_time": "2025-08-16T08:40:51.281079",
     "status": "completed"
    },
    "tags": []
   },
   "outputs": [
    {
     "data": {
      "text/plain": [
       "['eurosat-dataset']"
      ]
     },
     "execution_count": 2,
     "metadata": {},
     "output_type": "execute_result"
    }
   ],
   "source": [
    "import os\n",
    "os.listdir(\"/kaggle/input\")\n"
   ]
  },
  {
   "cell_type": "markdown",
   "id": "fd64d833",
   "metadata": {
    "papermill": {
     "duration": 0.004762,
     "end_time": "2025-08-16T08:40:51.302799",
     "exception": false,
     "start_time": "2025-08-16T08:40:51.298037",
     "status": "completed"
    },
    "tags": []
   },
   "source": [
    "# **Set Up**"
   ]
  },
  {
   "cell_type": "code",
   "execution_count": 3,
   "id": "0c79fb07",
   "metadata": {
    "execution": {
     "iopub.execute_input": "2025-08-16T08:40:51.313497Z",
     "iopub.status.busy": "2025-08-16T08:40:51.313286Z",
     "iopub.status.idle": "2025-08-16T08:40:51.363074Z",
     "shell.execute_reply": "2025-08-16T08:40:51.362342Z"
    },
    "papermill": {
     "duration": 0.05654,
     "end_time": "2025-08-16T08:40:51.364289",
     "exception": false,
     "start_time": "2025-08-16T08:40:51.307749",
     "status": "completed"
    },
    "tags": []
   },
   "outputs": [],
   "source": [
    "# Device\n",
    "device = torch.device(\"cuda\" if torch.cuda.is_available() else \"cpu\")\n",
    "\n",
    "# Dataset Path\n",
    "dataset_path =\"/kaggle/input/eurosat-dataset/EuroSAT\""
   ]
  },
  {
   "cell_type": "code",
   "execution_count": 4,
   "id": "1814bb32",
   "metadata": {
    "execution": {
     "iopub.execute_input": "2025-08-16T08:40:51.376063Z",
     "iopub.status.busy": "2025-08-16T08:40:51.375848Z",
     "iopub.status.idle": "2025-08-16T08:40:51.379260Z",
     "shell.execute_reply": "2025-08-16T08:40:51.378743Z"
    },
    "papermill": {
     "duration": 0.00994,
     "end_time": "2025-08-16T08:40:51.380258",
     "exception": false,
     "start_time": "2025-08-16T08:40:51.370318",
     "status": "completed"
    },
    "tags": []
   },
   "outputs": [],
   "source": [
    "transform_classifier = transforms.Compose([\n",
    "    transforms.Resize(72),\n",
    "    transforms.CenterCrop(64),\n",
    "    transforms.ToTensor(),\n",
    "])"
   ]
  },
  {
   "cell_type": "code",
   "execution_count": 5,
   "id": "fb0cefc8",
   "metadata": {
    "execution": {
     "iopub.execute_input": "2025-08-16T08:40:51.391672Z",
     "iopub.status.busy": "2025-08-16T08:40:51.391309Z",
     "iopub.status.idle": "2025-08-16T08:41:09.007256Z",
     "shell.execute_reply": "2025-08-16T08:41:09.006639Z"
    },
    "papermill": {
     "duration": 17.623197,
     "end_time": "2025-08-16T08:41:09.008587",
     "exception": false,
     "start_time": "2025-08-16T08:40:51.385390",
     "status": "completed"
    },
    "tags": []
   },
   "outputs": [],
   "source": [
    "# Load dataset\n",
    "full_dataset = datasets.ImageFolder(dataset_path, transform=transform_classifier)\n",
    "num_classes = len(full_dataset.classes)\n",
    "\n",
    "# Train - Test - Validation\n",
    "train_size = int(0.7 * len(full_dataset))\n",
    "val_size = int(0.15 * len(full_dataset))\n",
    "test_size = len(full_dataset) - train_size - val_size\n",
    "\n",
    "train_set, val_set, test_set = random_split(full_dataset, [train_size, val_size, test_size])\n",
    "\n",
    "train_loader = DataLoader(train_set, batch_size=64, shuffle=True, num_workers=2)\n",
    "val_loader = DataLoader(val_set, batch_size=64, shuffle=False, num_workers=2)\n",
    "test_loader = DataLoader(test_set, batch_size=64, shuffle=False, num_workers=2)"
   ]
  },
  {
   "cell_type": "markdown",
   "id": "5ce1f3a8",
   "metadata": {
    "papermill": {
     "duration": 0.004829,
     "end_time": "2025-08-16T08:41:09.018879",
     "exception": false,
     "start_time": "2025-08-16T08:41:09.014050",
     "status": "completed"
    },
    "tags": []
   },
   "source": [
    "# **Load MoCo Encoder**"
   ]
  },
  {
   "cell_type": "code",
   "execution_count": 6,
   "id": "715b867d",
   "metadata": {
    "execution": {
     "iopub.execute_input": "2025-08-16T08:41:09.030087Z",
     "iopub.status.busy": "2025-08-16T08:41:09.029407Z",
     "iopub.status.idle": "2025-08-16T08:41:09.425422Z",
     "shell.execute_reply": "2025-08-16T08:41:09.424621Z"
    },
    "papermill": {
     "duration": 0.403032,
     "end_time": "2025-08-16T08:41:09.426786",
     "exception": false,
     "start_time": "2025-08-16T08:41:09.023754",
     "status": "completed"
    },
    "tags": []
   },
   "outputs": [],
   "source": [
    "class EncoderWrapper(nn.Module):\n",
    "    def __init__(self, out_dim=128, checkpoint_path=None):\n",
    "        super().__init__()\n",
    "        backbone = models.resnet50(weights=None)   # replaces deprecated pretrained=False\n",
    "        dim_backbone = backbone.fc.in_features\n",
    "        backbone.fc = nn.Identity()                # backbone outputs 2048-d features\n",
    "        self.backbone = backbone\n",
    "        self.encoder = self.backbone               # alias so .encoder works\n",
    "\n",
    "        # projection head for contrastive pretraining\n",
    "        self.proj_head = nn.Sequential(\n",
    "            nn.Linear(dim_backbone, 512),\n",
    "            nn.ReLU(inplace=True),\n",
    "            nn.Linear(512, out_dim)\n",
    "        )\n",
    "\n",
    "        if checkpoint_path:\n",
    "            self.load_state_dict(torch.load(checkpoint_path, map_location=\"cpu\"))\n",
    "\n",
    "    def forward(self, x, proj=True):\n",
    "        h = self.backbone(x)        # representation (e.g., 2048-d)\n",
    "        if proj:\n",
    "            return self.proj_head(h)  # 128-d for contrastive\n",
    "        return h                      # backbone features for linear eval\n",
    "\n",
    "\n",
    "# Instantiate and save encoder (inner backbone weights)\n",
    "moco_encoder = EncoderWrapper(out_dim=128)"
   ]
  },
  {
   "cell_type": "markdown",
   "id": "83e774d4",
   "metadata": {
    "papermill": {
     "duration": 0.004844,
     "end_time": "2025-08-16T08:41:09.437059",
     "exception": false,
     "start_time": "2025-08-16T08:41:09.432215",
     "status": "completed"
    },
    "tags": []
   },
   "source": [
    "# **MoCo Momentum Encoder + Queue**"
   ]
  },
  {
   "cell_type": "code",
   "execution_count": 7,
   "id": "e4b1f5e3",
   "metadata": {
    "execution": {
     "iopub.execute_input": "2025-08-16T08:41:09.447979Z",
     "iopub.status.busy": "2025-08-16T08:41:09.447432Z",
     "iopub.status.idle": "2025-08-16T08:41:10.572325Z",
     "shell.execute_reply": "2025-08-16T08:41:10.571750Z"
    },
    "papermill": {
     "duration": 1.131637,
     "end_time": "2025-08-16T08:41:10.573632",
     "exception": false,
     "start_time": "2025-08-16T08:41:09.441995",
     "status": "completed"
    },
    "tags": []
   },
   "outputs": [],
   "source": [
    "# Momentum encoder setup\n",
    "query_encoder = EncoderWrapper().to(device)\n",
    "key_encoder = EncoderWrapper().to(device)\n",
    "\n",
    "key_encoder.load_state_dict(query_encoder.state_dict())\n",
    "for param in key_encoder.parameters():\n",
    "    param.requires_grad = False  # Freeze key encoder\n",
    "\n",
    "# Momentum update\n",
    "def momentum_update (query_encoder,key_encoder, m=0.9995):\n",
    "   for param_q, param_k in zip(query_encoder.parameters(), key_encoder.parameters()):\n",
    "        param_k.data = param_k.data * m + param_q.data * (1. - m)\n",
    "\n",
    "K = 4096             # queue size\n",
    "proj_dim = 128  # must match EncoderWrapper(out_dim)\n",
    "queue = F.normalize(torch.randn(proj_dim, K, device=device), dim=0)  # [128, K]\n",
    "queue_ptr = 0\n",
    "\n",
    "@torch.no_grad()\n",
    "def dequeue_and_enqueue(keys):\n",
    "    # keys: [N, proj_dim]\n",
    "    global queue, queue_ptr\n",
    "    bsz = keys.shape[0]\n",
    "    ptr = queue_ptr\n",
    "    end = ptr + bsz\n",
    "    if end <= K:\n",
    "        queue[:, ptr:end] = keys.T\n",
    "    else:\n",
    "        first = K - ptr\n",
    "        queue[:, ptr:] = keys[:first].T\n",
    "        queue[:, :bsz-first] = keys[first:].T\n",
    "    queue_ptr = (ptr + bsz) % K"
   ]
  },
  {
   "cell_type": "markdown",
   "id": "0c5d7215",
   "metadata": {
    "papermill": {
     "duration": 0.00501,
     "end_time": "2025-08-16T08:41:10.583972",
     "exception": false,
     "start_time": "2025-08-16T08:41:10.578962",
     "status": "completed"
    },
    "tags": []
   },
   "source": [
    "# **MoCo Pretraining Loop**"
   ]
  },
  {
   "cell_type": "code",
   "execution_count": 8,
   "id": "1b1feb34",
   "metadata": {
    "execution": {
     "iopub.execute_input": "2025-08-16T08:41:10.594852Z",
     "iopub.status.busy": "2025-08-16T08:41:10.594602Z",
     "iopub.status.idle": "2025-08-16T08:41:10.600097Z",
     "shell.execute_reply": "2025-08-16T08:41:10.599590Z"
    },
    "papermill": {
     "duration": 0.012283,
     "end_time": "2025-08-16T08:41:10.601127",
     "exception": false,
     "start_time": "2025-08-16T08:41:10.588844",
     "status": "completed"
    },
    "tags": []
   },
   "outputs": [],
   "source": [
    "# MoCo v2-style augments for EuroSAT (64x64)\n",
    "moco_transform = transforms.Compose([\n",
    "    transforms.RandomResizedCrop(64, scale=(0.2, 1.0)),\n",
    "    transforms.RandomHorizontalFlip(),\n",
    "    transforms.RandomApply([transforms.ColorJitter(0.4, 0.4, 0.4, 0.1)], p=0.8),\n",
    "    transforms.RandomGrayscale(p=0.2),\n",
    "    transforms.RandomApply([transforms.GaussianBlur(kernel_size=9, sigma=(0.1, 2.0))], p=0.5),\n",
    "    transforms.ToTensor(),\n",
    "    # Optional but recommended if you’ll ever swap to ImageNet-pretrained encoders:\n",
    "    # transforms.Normalize(mean=[0.485, 0.456, 0.406], std=[0.229, 0.224, 0.225]),\n",
    "])\n",
    "\n",
    "class ContrastiveDataset(Dataset):\n",
    "    def __init__(self, base_dataset):\n",
    "        self.dataset = base_dataset\n",
    "    def __getitem__(self, idx):\n",
    "        x, _ = self.dataset[idx]\n",
    "        return moco_transform(x), moco_transform(x)\n",
    "    def __len__(self):\n",
    "        return len(self.dataset)"
   ]
  },
  {
   "cell_type": "code",
   "execution_count": 9,
   "id": "647aba29",
   "metadata": {
    "execution": {
     "iopub.execute_input": "2025-08-16T08:41:10.611757Z",
     "iopub.status.busy": "2025-08-16T08:41:10.611532Z",
     "iopub.status.idle": "2025-08-16T08:41:18.476467Z",
     "shell.execute_reply": "2025-08-16T08:41:18.475641Z"
    },
    "papermill": {
     "duration": 7.871777,
     "end_time": "2025-08-16T08:41:18.477933",
     "exception": false,
     "start_time": "2025-08-16T08:41:10.606156",
     "status": "completed"
    },
    "tags": []
   },
   "outputs": [],
   "source": [
    "# Path from EuroSAT dataset\n",
    "data_dir = \"/kaggle/input/eurosat-dataset/EuroSAT\"  \n",
    "\n",
    "# Load base dataset (without transform)\n",
    "base_dataset = ImageFolder(data_dir)\n",
    "\n",
    "# Wrap with contrastive dataset\n",
    "contrastive_dataset = ContrastiveDataset(base_dataset)\n",
    "\n",
    "# DataLoader\n",
    "contrastive_loader = DataLoader(contrastive_dataset, batch_size=64, shuffle=True, num_workers=2)"
   ]
  },
  {
   "cell_type": "code",
   "execution_count": 10,
   "id": "f454d3ee",
   "metadata": {
    "execution": {
     "iopub.execute_input": "2025-08-16T08:41:18.489806Z",
     "iopub.status.busy": "2025-08-16T08:41:18.489521Z",
     "iopub.status.idle": "2025-08-16T08:53:34.068990Z",
     "shell.execute_reply": "2025-08-16T08:53:34.067583Z"
    },
    "papermill": {
     "duration": 735.593823,
     "end_time": "2025-08-16T08:53:34.077226",
     "exception": false,
     "start_time": "2025-08-16T08:41:18.483403",
     "status": "completed"
    },
    "tags": []
   },
   "outputs": [
    {
     "name": "stdout",
     "output_type": "stream",
     "text": [
      "Epoch 1: loss=6.4354\n",
      " Saved best at epoch 1\n",
      "Epoch 2: loss=6.4502\n",
      "Epoch 3: loss=6.4098\n",
      " Saved best at epoch 3\n",
      "Epoch 4: loss=6.6185\n",
      "Epoch 5: loss=7.0140\n",
      "Epoch 6: loss=7.1750\n",
      "Epoch 7: loss=7.2474\n",
      "Epoch 8: loss=7.4408\n",
      "Epoch 9: loss=7.5587\n",
      "Epoch 10: loss=7.6364\n"
     ]
    }
   ],
   "source": [
    "save_path = \"/kaggle/working/best_moco_encoder.pth\"\n",
    "best_loss = float('inf')\n",
    "moco_losses = []  # Track pretraining loss\n",
    "temperature = 0.05  # Lower temperature for better separation\n",
    "criterion = nn.CrossEntropyLoss()\n",
    "optimizer = torch.optim.Adam(query_encoder.parameters(), lr=3e-4, weight_decay=1e-4)\n",
    "scheduler = torch.optim.lr_scheduler.CosineAnnealingLR(optimizer, T_max=300)\n",
    "warmup_epochs = 10\n",
    "warmup_scheduler = torch.optim.lr_scheduler.LinearLR(optimizer, start_factor=0.1, total_iters=warmup_epochs)\n",
    "\n",
    "for epoch in range(10):\n",
    "    query_encoder.train()\n",
    "    key_encoder.eval()\n",
    "\n",
    "    running = 0.0\n",
    "    for x_q, x_k in contrastive_loader:\n",
    "        x_q, x_k = x_q.to(device), x_k.to(device)\n",
    "\n",
    "        # 1) momentum update before key forward\n",
    "        momentum_update(query_encoder, key_encoder, m=0.9995)  # Increased momentum for more stable key encoder)\n",
    "\n",
    "        # 2) forward\n",
    "        q = query_encoder(x_q, proj=True)                 # [N,128]\n",
    "        with torch.no_grad():\n",
    "            k = key_encoder(x_k, proj=True)               # [N,128]\n",
    "\n",
    "        # 3) L2-normalize\n",
    "        q = F.normalize(q, dim=1)\n",
    "        k = F.normalize(k, dim=1)\n",
    "        \n",
    "        # 4) logits and loss\n",
    "        l_pos = torch.einsum('nc,nc->n', q, k).unsqueeze(-1)      # [N, 1]\n",
    "        l_neg = torch.einsum('nc,ck->nk', q, queue)               # [N, K]\n",
    "        logits = torch.cat([l_pos, l_neg], dim=1) / temperature   # [N, 1+K]\n",
    "        labels = torch.zeros(logits.size(0), dtype=torch.long, device=device)\n",
    "        \n",
    "        loss = criterion(logits, labels)\n",
    "        optimizer.zero_grad()\n",
    "        loss.backward()\n",
    "        torch.nn.utils.clip_grad_norm_(query_encoder.parameters(), max_norm=1.0)\n",
    "        optimizer.step()\n",
    "        if epoch < warmup_epochs:\n",
    "            warmup_scheduler.step()\n",
    "        else:\n",
    "            scheduler.step()\n",
    "        running += loss.item()\n",
    "        \n",
    "        # 5) enqueue the current keys\n",
    "        with torch.no_grad():\n",
    "            dequeue_and_enqueue(k)\n",
    "\n",
    "    avg_loss = running / len(contrastive_loader)\n",
    "    moco_losses.append(avg_loss)\n",
    "    print(f\"Epoch {epoch+1}: loss={avg_loss:.4f}\")\n",
    "\n",
    "    if avg_loss < best_loss:\n",
    "        best_loss = avg_loss\n",
    "        torch.save(query_encoder.state_dict(), save_path)\n",
    "        print(f\" Saved best at epoch {epoch+1}\")\n",
    "\n",
    "np.savetxt(\"/kaggle/working/moco_pretraining_loss.txt\", np.array(moco_losses))"
   ]
  },
  {
   "cell_type": "code",
   "execution_count": 11,
   "id": "2fe69ba4",
   "metadata": {
    "execution": {
     "iopub.execute_input": "2025-08-16T08:53:34.090111Z",
     "iopub.status.busy": "2025-08-16T08:53:34.089543Z",
     "iopub.status.idle": "2025-08-16T08:53:34.307404Z",
     "shell.execute_reply": "2025-08-16T08:53:34.306759Z"
    },
    "papermill": {
     "duration": 0.225431,
     "end_time": "2025-08-16T08:53:34.308578",
     "exception": false,
     "start_time": "2025-08-16T08:53:34.083147",
     "status": "completed"
    },
    "tags": []
   },
   "outputs": [
    {
     "data": {
      "image/png": "[encoded data removed]",
      "text/plain": [
       "<Figure size 800x400 with 1 Axes>"
      ]
     },
     "metadata": {},
     "output_type": "display_data"
    }
   ],
   "source": [
    "# Plot Pertraining Loss\n",
    "moco_losses = np.loadtxt(\"/kaggle/working/moco_pretraining_loss.txt\")\n",
    "\n",
    "plt.figure(figsize=(8, 4))\n",
    "plt.plot(range(1, len(moco_losses) + 1), moco_losses, marker='o', linestyle='-', color='purple')\n",
    "plt.title(\"MoCo Pretraining Loss per Epoch\")\n",
    "plt.xlabel(\"Epoch\")\n",
    "plt.ylabel(\"Loss\")\n",
    "plt.grid(True)\n",
    "plt.tight_layout()\n",
    "plt.show()"
   ]
  },
  {
   "cell_type": "markdown",
   "id": "94617b02",
   "metadata": {
    "papermill": {
     "duration": 0.005966,
     "end_time": "2025-08-16T08:53:34.321075",
     "exception": false,
     "start_time": "2025-08-16T08:53:34.315109",
     "status": "completed"
    },
    "tags": []
   },
   "source": [
    "# **Linear Classifier with Frozen MoCo Encoder**"
   ]
  },
  {
   "cell_type": "code",
   "execution_count": 12,
   "id": "32e7550d",
   "metadata": {
    "execution": {
     "iopub.execute_input": "2025-08-16T08:53:34.333955Z",
     "iopub.status.busy": "2025-08-16T08:53:34.333480Z",
     "iopub.status.idle": "2025-08-16T08:56:07.383528Z",
     "shell.execute_reply": "2025-08-16T08:56:07.382448Z"
    },
    "papermill": {
     "duration": 153.058034,
     "end_time": "2025-08-16T08:56:07.384917",
     "exception": false,
     "start_time": "2025-08-16T08:53:34.326883",
     "status": "completed"
    },
    "tags": []
   },
   "outputs": [
    {
     "name": "stdout",
     "output_type": "stream",
     "text": [
      "[LinearEval] Epoch 1/10  TrainLoss 30.0078  TrainAcc 26.36%  ValLoss 30.6249  ValAcc 30.72%\n",
      "  Saved best linear classifier\n",
      "[LinearEval] Epoch 2/10  TrainLoss 28.5442  TrainAcc 28.30%  ValLoss 22.8613  ValAcc 23.70%\n",
      "  Saved best linear classifier\n",
      "[LinearEval] Epoch 3/10  TrainLoss 28.4759  TrainAcc 28.31%  ValLoss 28.5667  ValAcc 32.69%\n",
      "[LinearEval] Epoch 4/10  TrainLoss 25.9248  TrainAcc 28.47%  ValLoss 24.5485  ValAcc 31.85%\n",
      "[LinearEval] Epoch 5/10  TrainLoss 28.3921  TrainAcc 28.50%  ValLoss 22.6171  ValAcc 34.35%\n",
      "  Saved best linear classifier\n",
      "[LinearEval] Epoch 6/10  TrainLoss 30.2763  TrainAcc 28.51%  ValLoss 26.1667  ValAcc 29.70%\n",
      "[LinearEval] Epoch 7/10  TrainLoss 30.2585  TrainAcc 28.26%  ValLoss 37.9024  ValAcc 29.23%\n",
      "[LinearEval] Epoch 8/10  TrainLoss 28.2226  TrainAcc 29.01%  ValLoss 27.2198  ValAcc 26.81%\n",
      "[LinearEval] Epoch 9/10  TrainLoss 28.1669  TrainAcc 28.85%  ValLoss 29.7937  ValAcc 24.02%\n",
      "[LinearEval] Epoch 10/10  TrainLoss 27.2466  TrainAcc 29.15%  ValLoss 25.3588  ValAcc 33.36%\n"
     ]
    }
   ],
   "source": [
    "enc = EncoderWrapper(out_dim=128)\n",
    "enc.load_state_dict(torch.load(\"/kaggle/working/best_moco_encoder.pth\", map_location=device))\n",
    "enc.to(device)\n",
    "\n",
    "class LinearEvalClassifier(nn.Module):\n",
    "    def __init__(self, encoder, feat_dim=2048, num_classes=10):\n",
    "        super().__init__()\n",
    "        # freeze backbone\n",
    "        for p in encoder.parameters():\n",
    "            p.requires_grad = False\n",
    "        self.encoder = encoder\n",
    "        self.fc = nn.Linear(feat_dim, num_classes)\n",
    "\n",
    "    def forward(self, x):\n",
    "        with torch.no_grad():\n",
    "            feats = self.encoder(x, proj=False)  # backbone features, not projector\n",
    "        return self.fc(feats)\n",
    "\n",
    "model = LinearEvalClassifier(enc, feat_dim=2048, num_classes=num_classes).to(device)\n",
    "optimizer = torch.optim.SGD(model.fc.parameters(), lr=0.1, momentum=0.9, weight_decay=0.0)\n",
    "criterion = nn.CrossEntropyLoss()\n",
    "\n",
    "\n",
    "train_losses, val_losses = [], []\n",
    "train_accs,  val_accs  = [],  []\n",
    "\n",
    "best_val_loss = float(\"inf\")\n",
    "\n",
    "epochs = 10\n",
    "\n",
    "for epoch in range(epochs):\n",
    "    # Train\n",
    "    model.train()\n",
    "    running_loss, correct, total = 0.0, 0, 0\n",
    "    for images, labels in train_loader:\n",
    "        images, labels = images.to(device), labels.to(device)\n",
    "        logits = model(images)\n",
    "        loss = criterion(logits, labels)\n",
    "\n",
    "        optimizer.zero_grad(set_to_none=True)\n",
    "        loss.backward()\n",
    "        torch.nn.utils.clip_grad_norm_(query_encoder.parameters(), max_norm=1.0)\n",
    "        optimizer.step()\n",
    "        if epoch < warmup_epochs:\n",
    "            warmup_scheduler.step()\n",
    "        else:\n",
    "            scheduler.step()\n",
    "\n",
    "        bs = labels.size(0)\n",
    "        running_loss += loss.item() * bs\n",
    "        correct += (logits.argmax(1) == labels).sum().item()\n",
    "        total += bs\n",
    "\n",
    "    train_losses.append(running_loss / max(1, total))\n",
    "    train_accs.append(correct / max(1, total))\n",
    "\n",
    "    # Validation\n",
    "    model.eval()\n",
    "    val_running_loss, vcorrect, vtotal = 0.0, 0, 0\n",
    "    with torch.no_grad():\n",
    "        for images, labels in val_loader:\n",
    "            images, labels = images.to(device), labels.to(device)\n",
    "            vlogits = model(images)\n",
    "            vloss = criterion(vlogits, labels)\n",
    "\n",
    "            bs = labels.size(0)\n",
    "            val_running_loss += vloss.item() * bs\n",
    "            vcorrect += (vlogits.argmax(1) == labels).sum().item()\n",
    "            vtotal += bs\n",
    "\n",
    "    val_loss = val_running_loss / max(1, vtotal)\n",
    "    val_acc  = vcorrect / max(1, vtotal)\n",
    "    val_losses.append(val_loss)\n",
    "    val_accs.append(val_acc)\n",
    "\n",
    "    print(f\"[LinearEval] Epoch {epoch+1}/{epochs}  \"\n",
    "          f\"TrainLoss {train_losses[-1]:.4f}  TrainAcc {train_accs[-1]*100:.2f}%  \"\n",
    "          f\"ValLoss {val_loss:.4f}  ValAcc {val_acc*100:.2f}%\")\n",
    "\n",
    "    \n",
    "    if val_loss < best_val_loss:\n",
    "        best_val_loss = val_loss\n",
    "        torch.save(model.state_dict(), \"/kaggle/working/best_classifier.pth\")\n",
    "        print(\"  Saved best linear classifier\")"
   ]
  },
  {
   "cell_type": "code",
   "execution_count": 13,
   "id": "53fe1b9f",
   "metadata": {
    "execution": {
     "iopub.execute_input": "2025-08-16T08:56:07.448079Z",
     "iopub.status.busy": "2025-08-16T08:56:07.447789Z",
     "iopub.status.idle": "2025-08-16T08:56:07.802462Z",
     "shell.execute_reply": "2025-08-16T08:56:07.801738Z"
    },
    "papermill": {
     "duration": 0.412156,
     "end_time": "2025-08-16T08:56:07.803939",
     "exception": false,
     "start_time": "2025-08-16T08:56:07.391783",
     "status": "completed"
    },
    "tags": []
   },
   "outputs": [
    {
     "data": {
      "image/png": "[encoded data removed]",
      "text/plain": [
       "<Figure size 640x480 with 1 Axes>"
      ]
     },
     "metadata": {},
     "output_type": "display_data"
    },
    {
     "data": {
      "image/png": "[encoded data removed]",
      "text/plain": [
       "<Figure size 640x480 with 1 Axes>"
      ]
     },
     "metadata": {},
     "output_type": "display_data"
    },
    {
     "name": "stdout",
     "output_type": "stream",
     "text": [
      "Best epoch (min val loss): 5  |  Val acc: 34.35%\n"
     ]
    }
   ],
   "source": [
    "epochs = range(1, len(train_losses) + 1)\n",
    "\n",
    "# Loss\n",
    "plt.figure()\n",
    "plt.plot(epochs, train_losses, label='Train loss')\n",
    "plt.plot(epochs, val_losses, label='Val loss')\n",
    "plt.xlabel('Epoch'); plt.ylabel('Loss'); plt.title('Linear eval: loss')\n",
    "plt.legend(); plt.tight_layout()\n",
    "plt.show()\n",
    "\n",
    "# Accuracy\n",
    "plt.figure()\n",
    "plt.plot(epochs, [a * 100 for a in train_accs], label='Train acc (%)')\n",
    "plt.plot(epochs, [a * 100 for a in val_accs], label='Val acc (%)')\n",
    "plt.xlabel('Epoch'); plt.ylabel('Accuracy (%)'); plt.title('Linear eval: accuracy')\n",
    "plt.legend(); plt.tight_layout()\n",
    "plt.show()\n",
    "\n",
    "# Best epoch summary\n",
    "best_epoch = int(np.argmin(val_losses)) + 1\n",
    "print(f\"Best epoch (min val loss): {best_epoch}  |  Val acc: {val_accs[best_epoch-1]*100:.2f}%\")"
   ]
  },
  {
   "cell_type": "markdown",
   "id": "9388090f",
   "metadata": {
    "papermill": {
     "duration": 0.008319,
     "end_time": "2025-08-16T08:56:07.821286",
     "exception": false,
     "start_time": "2025-08-16T08:56:07.812967",
     "status": "completed"
    },
    "tags": []
   },
   "source": [
    "# **Evaluate on test set**"
   ]
  },
  {
   "cell_type": "code",
   "execution_count": 14,
   "id": "5e0ab8cf",
   "metadata": {
    "execution": {
     "iopub.execute_input": "2025-08-16T08:56:07.838962Z",
     "iopub.status.busy": "2025-08-16T08:56:07.838735Z",
     "iopub.status.idle": "2025-08-16T08:56:10.496622Z",
     "shell.execute_reply": "2025-08-16T08:56:10.495760Z"
    },
    "papermill": {
     "duration": 2.668134,
     "end_time": "2025-08-16T08:56:10.497879",
     "exception": false,
     "start_time": "2025-08-16T08:56:07.829745",
     "status": "completed"
    },
    "tags": []
   },
   "outputs": [
    {
     "name": "stdout",
     "output_type": "stream",
     "text": [
      "\n",
      "Final Test Accuracy: 35.06%, Test Loss: 24.3447\n"
     ]
    }
   ],
   "source": [
    "# Final Test Set Evaluation\n",
    "model.eval()\n",
    "test_loss, correct, total = 0.0, 0, 0\n",
    "\n",
    "with torch.no_grad():\n",
    "    for inputs, labels in test_loader:\n",
    "        inputs, labels = inputs.to(device), labels.to(device)\n",
    "        outputs = model(inputs)\n",
    "        loss = criterion(outputs, labels)\n",
    "\n",
    "        test_loss += loss.item()\n",
    "        preds = outputs.argmax(dim=1)\n",
    "        correct += (preds == labels).sum().item()\n",
    "        total += labels.size(0)\n",
    "\n",
    "test_loss /= len(test_loader)\n",
    "test_acc = correct / total\n",
    "print(f\"\\nFinal Test Accuracy: {test_acc:.2%}, Test Loss: {test_loss:.4f}\")"
   ]
  },
  {
   "cell_type": "markdown",
   "id": "e7a38f5d",
   "metadata": {
    "papermill": {
     "duration": 0.008378,
     "end_time": "2025-08-16T08:56:10.515603",
     "exception": false,
     "start_time": "2025-08-16T08:56:10.507225",
     "status": "completed"
    },
    "tags": []
   },
   "source": [
    "\n",
    "# ✅ Loss-Reduction Upgrades (Drop-in Section)\n",
    "These cells add practical, **safe** improvements to help your training converge better and reduce loss, without changing your dataset or model architecture.\n",
    "\n",
    "**What this adds:**\n",
    "- Reproducible seeds\n",
    "- Strong but balanced augmentations (with optional Mixup/CutMix)\n",
    "- Label smoothing in CrossEntropy\n",
    "- `AdamW` + cosine annealing LR schedule (with warmup)\n",
    "- Automatic Mixed Precision (AMP) for stable, faster training\n",
    "- Gradient clipping to prevent exploding gradients\n",
    "- Early stopping + best-model checkpointing\n",
    "- Sensible DataLoader performance flags\n"
   ]
  },
  {
   "cell_type": "code",
   "execution_count": 15,
   "id": "254292d8",
   "metadata": {
    "execution": {
     "iopub.execute_input": "2025-08-16T08:56:10.533970Z",
     "iopub.status.busy": "2025-08-16T08:56:10.533186Z",
     "iopub.status.idle": "2025-08-16T08:56:10.537769Z",
     "shell.execute_reply": "2025-08-16T08:56:10.537045Z"
    },
    "papermill": {
     "duration": 0.015214,
     "end_time": "2025-08-16T08:56:10.539258",
     "exception": false,
     "start_time": "2025-08-16T08:56:10.524044",
     "status": "completed"
    },
    "tags": []
   },
   "outputs": [],
   "source": [
    "\n",
    "# --- Step 0: Imports (safe to re-run) ---\n",
    "import math, os, random, time\n",
    "import numpy as np\n",
    "import torch\n",
    "import torch.nn as nn\n",
    "import torch.optim as optim\n",
    "\n",
    "from torch.optim.lr_scheduler import CosineAnnealingLR\n",
    "from torch.cuda.amp import autocast, GradScaler\n",
    "\n",
    "from typing import Optional, Tuple\n"
   ]
  },
  {
   "cell_type": "code",
   "execution_count": 16,
   "id": "2908e34d",
   "metadata": {
    "execution": {
     "iopub.execute_input": "2025-08-16T08:56:10.557507Z",
     "iopub.status.busy": "2025-08-16T08:56:10.557109Z",
     "iopub.status.idle": "2025-08-16T08:56:10.565171Z",
     "shell.execute_reply": "2025-08-16T08:56:10.564637Z"
    },
    "papermill": {
     "duration": 0.018599,
     "end_time": "2025-08-16T08:56:10.566188",
     "exception": false,
     "start_time": "2025-08-16T08:56:10.547589",
     "status": "completed"
    },
    "tags": []
   },
   "outputs": [
    {
     "data": {
      "text/plain": [
       "device(type='cuda')"
      ]
     },
     "execution_count": 16,
     "metadata": {},
     "output_type": "execute_result"
    }
   ],
   "source": [
    "\n",
    "# --- Step 1: Deterministic seeds (helps stability & reproducibility) ---\n",
    "def set_seeds(seed: int = 42):\n",
    "    random.seed(seed)\n",
    "    np.random.seed(seed)\n",
    "    torch.manual_seed(seed)\n",
    "    torch.cuda.manual_seed_all(seed)\n",
    "    torch.backends.cudnn.deterministic = False  # True can slow down; False keeps speed with good determinism\n",
    "    torch.backends.cudnn.benchmark = True\n",
    "    os.environ['PYTHONHASHSEED'] = str(seed)\n",
    "\n",
    "set_seeds(42)\n",
    "device = torch.device(\"cuda\" if torch.cuda.is_available() else \"cpu\")\n",
    "device\n"
   ]
  },
  {
   "cell_type": "code",
   "execution_count": 17,
   "id": "79b618bc",
   "metadata": {
    "execution": {
     "iopub.execute_input": "2025-08-16T08:56:10.584484Z",
     "iopub.status.busy": "2025-08-16T08:56:10.584302Z",
     "iopub.status.idle": "2025-08-16T08:56:10.595671Z",
     "shell.execute_reply": "2025-08-16T08:56:10.595166Z"
    },
    "papermill": {
     "duration": 0.021372,
     "end_time": "2025-08-16T08:56:10.596673",
     "exception": false,
     "start_time": "2025-08-16T08:56:10.575301",
     "status": "completed"
    },
    "tags": []
   },
   "outputs": [],
   "source": [
    "\n",
    "# --- Step 2: Optional Mixup/CutMix wrapper for classification ---\n",
    "# Works with batches (inputs: [B,C,H,W], targets: [B])\n",
    "class MixupCutmix:\n",
    "    def __init__(self, mixup_alpha: float = 0.4, cutmix_alpha: float = 1.0, p: float = 0.5, num_classes: Optional[int] = None):\n",
    "        self.mixup_alpha = mixup_alpha\n",
    "        self.cutmix_alpha = cutmix_alpha\n",
    "        self.p = p\n",
    "        self.num_classes = num_classes\n",
    "\n",
    "    def _one_hot(self, targets, num_classes):\n",
    "        return torch.zeros(targets.size(0), num_classes, device=targets.device).scatter_(1, targets.unsqueeze(1), 1.0)\n",
    "\n",
    "    def _mixup(self, x, y):\n",
    "        lam = np.random.beta(self.mixup_alpha, self.mixup_alpha) if self.mixup_alpha > 0 else 1.0\n",
    "        index = torch.randperm(x.size(0), device=x.device)\n",
    "        mixed_x = lam * x + (1 - lam) * x[index, :]\n",
    "        y_a, y_b = y, y[index]\n",
    "        return mixed_x, y_a, y_b, lam\n",
    "\n",
    "    def _cutmix(self, x, y):\n",
    "        lam = np.random.beta(self.cutmix_alpha, self.cutmix_alpha) if self.cutmix_alpha > 0 else 1.0\n",
    "        B, C, H, W = x.size()\n",
    "        cx = np.random.randint(W)\n",
    "        cy = np.random.randint(H)\n",
    "        w = int(W * np.sqrt(1 - lam))\n",
    "        h = int(H * np.sqrt(1 - lam))\n",
    "        x1 = np.clip(cx - w // 2, 0, W)\n",
    "        y1 = np.clip(cy - h // 2, 0, H)\n",
    "        x2 = np.clip(cx + w // 2, 0, W)\n",
    "        y2 = np.clip(cy + h // 2, 0, H)\n",
    "\n",
    "        index = torch.randperm(B, device=x.device)\n",
    "        x[:, :, y1:y2, x1:x2] = x[index, :, y1:y2, x1:x2]\n",
    "        lam = 1 - ((x2 - x1) * (y2 - y1) / (W * H))\n",
    "        y_a, y_b = y, y[index]\n",
    "        return x, y_a, y_b, lam\n",
    "\n",
    "    def __call__(self, x, y):\n",
    "        if self.num_classes is None:\n",
    "            raise ValueError(\"num_classes must be set for MixupCutmix one-hot targets.\")\n",
    "        if np.random.rand() < self.p:\n",
    "            if np.random.rand() < 0.5:\n",
    "                return self._mixup(x, y) + (\"mixup\",)\n",
    "            else:\n",
    "                return self._cutmix(x, y) + (\"cutmix\",)\n",
    "        else:\n",
    "            return x, y, y, 1.0, \"none\"\n"
   ]
  },
  {
   "cell_type": "code",
   "execution_count": 18,
   "id": "d9f3ddfa",
   "metadata": {
    "execution": {
     "iopub.execute_input": "2025-08-16T08:56:10.614325Z",
     "iopub.status.busy": "2025-08-16T08:56:10.614154Z",
     "iopub.status.idle": "2025-08-16T08:56:10.617476Z",
     "shell.execute_reply": "2025-08-16T08:56:10.616761Z"
    },
    "papermill": {
     "duration": 0.01325,
     "end_time": "2025-08-16T08:56:10.618539",
     "exception": false,
     "start_time": "2025-08-16T08:56:10.605289",
     "status": "completed"
    },
    "tags": []
   },
   "outputs": [],
   "source": [
    "\n",
    "# --- Step 3: Smoothed CE loss + label smoothing helps generalization ---\n",
    "def get_criterion(num_classes: int, label_smoothing: float = 0.1):\n",
    "    return nn.CrossEntropyLoss(label_smoothing=label_smoothing).to(device)\n"
   ]
  },
  {
   "cell_type": "code",
   "execution_count": 19,
   "id": "eeb5ebe1",
   "metadata": {
    "execution": {
     "iopub.execute_input": "2025-08-16T08:56:10.636124Z",
     "iopub.status.busy": "2025-08-16T08:56:10.635960Z",
     "iopub.status.idle": "2025-08-16T08:56:10.639446Z",
     "shell.execute_reply": "2025-08-16T08:56:10.638963Z"
    },
    "papermill": {
     "duration": 0.013289,
     "end_time": "2025-08-16T08:56:10.640399",
     "exception": false,
     "start_time": "2025-08-16T08:56:10.627110",
     "status": "completed"
    },
    "tags": []
   },
   "outputs": [],
   "source": [
    "\n",
    "# --- Step 4: Optimizer & LR schedule helpers ---\n",
    "def get_optimizer(model, lr=3e-4, weight_decay=1e-4):\n",
    "    # AdamW is robust for vision tasks\n",
    "    return optim.AdamW(model.parameters(), lr=lr, weight_decay=weight_decay)\n",
    "\n",
    "def get_scheduler(optimizer, T_max_epochs: int):\n",
    "    # Cosine annealing gradually lowers LR, usually reduces loss smoothly\n",
    "    return CosineAnnealingLR(optimizer, T_max=T_max_epochs, eta_min=1e-6)\n"
   ]
  },
  {
   "cell_type": "code",
   "execution_count": 20,
   "id": "19154c9c",
   "metadata": {
    "execution": {
     "iopub.execute_input": "2025-08-16T08:56:10.658385Z",
     "iopub.status.busy": "2025-08-16T08:56:10.658213Z",
     "iopub.status.idle": "2025-08-16T08:56:10.671114Z",
     "shell.execute_reply": "2025-08-16T08:56:10.670343Z"
    },
    "papermill": {
     "duration": 0.023283,
     "end_time": "2025-08-16T08:56:10.672256",
     "exception": false,
     "start_time": "2025-08-16T08:56:10.648973",
     "status": "completed"
    },
    "tags": []
   },
   "outputs": [],
   "source": [
    "\n",
    "# --- Step 5: Training loop with AMP, grad clipping, early stopping, checkpointing ---\n",
    "def train_epochs(model: torch.nn.Module,\n",
    "                 train_loader,\n",
    "                 val_loader=None,\n",
    "                 num_classes: Optional[int] = None,\n",
    "                 epochs: int = 20,\n",
    "                 lr: float = 3e-4,\n",
    "                 weight_decay: float = 1e-4,\n",
    "                 label_smoothing: float = 0.1,\n",
    "                 grad_clip_norm: float = 1.0,\n",
    "                 mix_p: float = 0.0,  # 0.0 disables Mixup/CutMix by default\n",
    "                 patience: int = 7,   # early stopping patience\n",
    "                 save_path: str = \"best_model.pth\"):\n",
    "    model = model.to(device)\n",
    "    criterion = get_criterion(num_classes=num_classes, label_smoothing=label_smoothing)\n",
    "    optimizer = get_optimizer(model, lr=lr, weight_decay=weight_decay)\n",
    "    scheduler = get_scheduler(optimizer, T_max_epochs=epochs)\n",
    "    scaler = GradScaler(enabled=torch.cuda.is_available())\n",
    "\n",
    "    mix_helper = MixupCutmix(p=mix_p, num_classes=num_classes) if mix_p > 0 and num_classes is not None else None\n",
    "\n",
    "    best_val = float(\"inf\")\n",
    "    best_epoch = -1\n",
    "    history = {\"train_loss\": [], \"val_loss\": []}\n",
    "\n",
    "    for epoch in range(1, epochs + 1):\n",
    "        model.train()\n",
    "        running = 0.0\n",
    "        n = 0\n",
    "\n",
    "        for batch in train_loader:\n",
    "            if isinstance(batch, (list, tuple)) and len(batch) >= 2:\n",
    "                inputs, targets = batch[0].to(device), batch[1].to(device)\n",
    "            else:\n",
    "                # If dataset returns dict-like\n",
    "                inputs, targets = batch[\"image\"].to(device), batch[\"label\"].to(device)\n",
    "\n",
    "            optimizer.zero_grad(set_to_none=True)\n",
    "\n",
    "            with autocast(enabled=torch.cuda.is_available()):\n",
    "                if mix_helper is not None:\n",
    "                    mixed_x, y_a, y_b, lam, _ = mix_helper(inputs, targets)\n",
    "                    outputs = model(mixed_x)\n",
    "                    if outputs.ndim > 2:\n",
    "                        outputs = torch.squeeze(outputs)\n",
    "                    loss = lam * criterion(outputs, y_a) + (1 - lam) * criterion(outputs, y_b)\n",
    "                else:\n",
    "                    outputs = model(inputs)\n",
    "                    if outputs.ndim > 2:\n",
    "                        outputs = torch.squeeze(outputs)\n",
    "                    loss = criterion(outputs, targets)\n",
    "\n",
    "            scaler.scale(loss).backward()\n",
    "            # gradient clipping for stability\n",
    "            if grad_clip_norm is not None:\n",
    "                scaler.unscale_(optimizer)\n",
    "                torch.nn.utils.clip_grad_norm_(model.parameters(), grad_clip_norm)\n",
    "\n",
    "            scaler.step(optimizer)\n",
    "            scaler.update()\n",
    "\n",
    "            running += loss.item() * inputs.size(0)\n",
    "            n += inputs.size(0)\n",
    "\n",
    "        train_loss = running / max(1, n)\n",
    "        history[\"train_loss\"].append(train_loss)\n",
    "\n",
    "        # Validation\n",
    "        if val_loader is not None:\n",
    "            model.eval()\n",
    "            v_running = 0.0\n",
    "            v_n = 0\n",
    "            with torch.no_grad():\n",
    "                for batch in val_loader:\n",
    "                    if isinstance(batch, (list, tuple)) and len(batch) >= 2:\n",
    "                        inputs, targets = batch[0].to(device), batch[1].to(device)\n",
    "                    else:\n",
    "                        inputs, targets = batch[\"image\"].to(device), batch[\"label\"].to(device)\n",
    "                    with autocast(enabled=torch.cuda.is_available()):\n",
    "                        outputs = model(inputs)\n",
    "                        if outputs.ndim > 2:\n",
    "                            outputs = torch.squeeze(outputs)\n",
    "                        v_loss = criterion(outputs, targets)\n",
    "                    v_running += v_loss.item() * inputs.size(0)\n",
    "                    v_n += inputs.size(0)\n",
    "            val_loss = v_running / max(1, v_n)\n",
    "            history[\"val_loss\"].append(val_loss)\n",
    "\n",
    "            # Early stopping & checkpoint\n",
    "            if val_loss < best_val:\n",
    "                best_val = val_loss\n",
    "                best_epoch = epoch\n",
    "                torch.save({\"model\": model.state_dict(),\n",
    "                            \"epoch\": epoch,\n",
    "                            \"val_loss\": val_loss}, save_path)\n",
    "        else:\n",
    "            val_loss = float(\"nan\")\n",
    "            history[\"val_loss\"].append(val_loss)\n",
    "\n",
    "        scheduler.step()\n",
    "\n",
    "        print(f\"Epoch {epoch:03d}/{epochs}  |  train_loss={train_loss:.4f}  val_loss={val_loss:.4f}\")\n",
    "\n",
    "        # stop early if no improvement\n",
    "        if (val_loader is not None) and (epoch - best_epoch >= patience):\n",
    "            print(f\"Early stopping at epoch {epoch} (best @ {best_epoch} with val_loss={best_val:.4f})\")\n",
    "            break\n",
    "\n",
    "    # Load best (if validation was used)\n",
    "    if val_loader is not None and Path(save_path).exists():\n",
    "        ckpt = torch.load(save_path, map_location=device)\n",
    "        model.load_state_dict(ckpt[\"model\"])\n",
    "        print(f\"Loaded best checkpoint from epoch {ckpt['epoch']} with val_loss={ckpt['val_loss']:.4f}\")\n",
    "\n",
    "    return model, history\n"
   ]
  },
  {
   "cell_type": "code",
   "execution_count": 21,
   "id": "4e90d496",
   "metadata": {
    "execution": {
     "iopub.execute_input": "2025-08-16T08:56:10.690031Z",
     "iopub.status.busy": "2025-08-16T08:56:10.689614Z",
     "iopub.status.idle": "2025-08-16T08:56:10.692622Z",
     "shell.execute_reply": "2025-08-16T08:56:10.692103Z"
    },
    "papermill": {
     "duration": 0.012752,
     "end_time": "2025-08-16T08:56:10.693601",
     "exception": false,
     "start_time": "2025-08-16T08:56:10.680849",
     "status": "completed"
    },
    "tags": []
   },
   "outputs": [],
   "source": [
    "\n",
    "# --- Step 6: Dataloader performance hints (use when you create loaders) ---\n",
    "# Example usage when you build your DataLoaders (replace with your variables):\n",
    "# train_loader = DataLoader(train_ds, batch_size=64, shuffle=True, num_workers=os.cpu_count()//2, pin_memory=True, persistent_workers=True)\n",
    "# val_loader   = DataLoader(val_ds,   batch_size=64, shuffle=False, num_workers=os.cpu_count()//2, pin_memory=True, persistent_workers=True)\n",
    "#\n",
    "# These flags improve throughput and can indirectly reduce loss by enabling larger batch sizes & more stable steps.\n",
    "pass\n"
   ]
  },
  {
   "cell_type": "markdown",
   "id": "800224bc",
   "metadata": {
    "papermill": {
     "duration": 0.008207,
     "end_time": "2025-08-16T08:56:10.710803",
     "exception": false,
     "start_time": "2025-08-16T08:56:10.702596",
     "status": "completed"
    },
    "tags": []
   },
   "source": [
    "\n",
    "### How to use this section\n",
    "1. **Define your `model`, `train_loader`, `val_loader`, and `num_classes`.**  \n",
    "2. Run:\n",
    "```python\n",
    "model, history = train_epochs(\n",
    "    model,\n",
    "    train_loader,\n",
    "    val_loader,\n",
    "    num_classes=num_classes,\n",
    "    epochs=50,                 # try 50–100 for harder datasets\n",
    "    lr=3e-4,\n",
    "    weight_decay=1e-4,\n",
    "    label_smoothing=0.1,\n",
    "    grad_clip_norm=1.0,\n",
    "    mix_p=0.2,                 # try 0.2–0.5 if you want Mixup/CutMix\n",
    "    patience=10,               # early stopping patience\n",
    "    save_path=\"best_model.pth\"\n",
    ")\n",
    "```\n",
    "3. Plot losses (optional):\n",
    "```python\n",
    "import matplotlib.pyplot as plt\n",
    "plt.figure()\n",
    "plt.plot(history['train_loss'], label='train')\n",
    "plt.plot(history['val_loss'], label='val')\n",
    "plt.legend(); plt.title('Loss'); plt.xlabel('epoch'); plt.ylabel('loss'); plt.show()\n",
    "```\n"
   ]
  },
  {
   "cell_type": "markdown",
   "id": "fa2ef944",
   "metadata": {
    "papermill": {
     "duration": 0.008141,
     "end_time": "2025-08-16T08:56:10.727602",
     "exception": false,
     "start_time": "2025-08-16T08:56:10.719461",
     "status": "completed"
    },
    "tags": []
   },
   "source": [
    "# ✅ Implemented: Loss-Reduction Upgrades"
   ]
  },
  {
   "cell_type": "code",
   "execution_count": 22,
   "id": "f8101c68",
   "metadata": {
    "execution": {
     "iopub.execute_input": "2025-08-16T08:56:10.744922Z",
     "iopub.status.busy": "2025-08-16T08:56:10.744720Z",
     "iopub.status.idle": "2025-08-16T08:56:10.750002Z",
     "shell.execute_reply": "2025-08-16T08:56:10.749339Z"
    },
    "papermill": {
     "duration": 0.015275,
     "end_time": "2025-08-16T08:56:10.751215",
     "exception": false,
     "start_time": "2025-08-16T08:56:10.735940",
     "status": "completed"
    },
    "tags": []
   },
   "outputs": [
    {
     "data": {
      "text/plain": [
       "device(type='cuda')"
      ]
     },
     "execution_count": 22,
     "metadata": {},
     "output_type": "execute_result"
    }
   ],
   "source": [
    "\n",
    "import os, math, random, time\n",
    "import numpy as np\n",
    "import torch\n",
    "import torch.nn as nn\n",
    "import torch.optim as optim\n",
    "from torch.optim.lr_scheduler import CosineAnnealingLR\n",
    "from torch.cuda.amp import autocast, GradScaler\n",
    "from typing import Optional\n",
    "\n",
    "device = torch.device(\"cuda\" if torch.cuda.is_available() else \"cpu\")\n",
    "device\n"
   ]
  },
  {
   "cell_type": "code",
   "execution_count": 23,
   "id": "160ab2e7",
   "metadata": {
    "execution": {
     "iopub.execute_input": "2025-08-16T08:56:10.769493Z",
     "iopub.status.busy": "2025-08-16T08:56:10.769299Z",
     "iopub.status.idle": "2025-08-16T08:56:10.773880Z",
     "shell.execute_reply": "2025-08-16T08:56:10.773377Z"
    },
    "papermill": {
     "duration": 0.014855,
     "end_time": "2025-08-16T08:56:10.774970",
     "exception": false,
     "start_time": "2025-08-16T08:56:10.760115",
     "status": "completed"
    },
    "tags": []
   },
   "outputs": [],
   "source": [
    "\n",
    "def set_seeds(seed: int = 42):\n",
    "    random.seed(seed)\n",
    "    np.random.seed(seed)\n",
    "    torch.manual_seed(seed)\n",
    "    torch.cuda.manual_seed_all(seed)\n",
    "    torch.backends.cudnn.deterministic = False\n",
    "    torch.backends.cudnn.benchmark = True\n",
    "    os.environ['PYTHONHASHSEED'] = str(seed)\n",
    "\n",
    "set_seeds(42)\n"
   ]
  },
  {
   "cell_type": "code",
   "execution_count": 24,
   "id": "d1a8f239",
   "metadata": {
    "execution": {
     "iopub.execute_input": "2025-08-16T08:56:10.792897Z",
     "iopub.status.busy": "2025-08-16T08:56:10.792688Z",
     "iopub.status.idle": "2025-08-16T08:56:10.800868Z",
     "shell.execute_reply": "2025-08-16T08:56:10.800196Z"
    },
    "papermill": {
     "duration": 0.018227,
     "end_time": "2025-08-16T08:56:10.801905",
     "exception": false,
     "start_time": "2025-08-16T08:56:10.783678",
     "status": "completed"
    },
    "tags": []
   },
   "outputs": [],
   "source": [
    "\n",
    "class MixupCutmix:\n",
    "    def __init__(self, mixup_alpha: float = 0.4, cutmix_alpha: float = 1.0, p: float = 0.5, num_classes: Optional[int] = None):\n",
    "        self.mixup_alpha = mixup_alpha\n",
    "        self.cutmix_alpha = cutmix_alpha\n",
    "        self.p = p\n",
    "        self.num_classes = num_classes\n",
    "\n",
    "    def _mixup(self, x, y):\n",
    "        lam = np.random.beta(self.mixup_alpha, self.mixup_alpha) if self.mixup_alpha > 0 else 1.0\n",
    "        index = torch.randperm(x.size(0), device=x.device)\n",
    "        mixed_x = lam * x + (1 - lam) * x[index, :]\n",
    "        return mixed_x, y, y[index], lam\n",
    "\n",
    "    def _cutmix(self, x, y):\n",
    "        lam = np.random.beta(self.cutmix_alpha, self.cutmix_alpha) if self.cutmix_alpha > 0 else 1.0\n",
    "        B, C, H, W = x.size()\n",
    "        cx = np.random.randint(W)\n",
    "        cy = np.random.randint(H)\n",
    "        w = int(W * np.sqrt(1 - lam))\n",
    "        h = int(H * np.sqrt(1 - lam))\n",
    "        x1 = np.clip(cx - w // 2, 0, W)\n",
    "        y1 = np.clip(cy - h // 2, 0, H)\n",
    "        x2 = np.clip(cx + w // 2, 0, W)\n",
    "        y2 = np.clip(cy + h // 2, 0, H)\n",
    "        index = torch.randperm(B, device=x.device)\n",
    "        x[:, :, y1:y2, x1:x2] = x[index, :, y1:y2, x1:x2]\n",
    "        lam = 1 - ((x2 - x1) * (y2 - y1) / (W * H))\n",
    "        return x, y, y[index], lam\n",
    "\n",
    "    def __call__(self, x, y):\n",
    "        if self.num_classes is None:\n",
    "            raise ValueError(\"num_classes must be set for Mixup/CutMix.\")\n",
    "        if np.random.rand() < self.p:\n",
    "            if np.random.rand() < 0.5:\n",
    "                return (*self._mixup(x, y), \"mixup\")\n",
    "            else:\n",
    "                return (*self._cutmix(x, y), \"cutmix\")\n",
    "        else:\n",
    "            return x, y, y, 1.0, \"none\"\n"
   ]
  },
  {
   "cell_type": "code",
   "execution_count": 25,
   "id": "f41e7da2",
   "metadata": {
    "execution": {
     "iopub.execute_input": "2025-08-16T08:56:10.819612Z",
     "iopub.status.busy": "2025-08-16T08:56:10.819444Z",
     "iopub.status.idle": "2025-08-16T08:56:10.823244Z",
     "shell.execute_reply": "2025-08-16T08:56:10.822745Z"
    },
    "papermill": {
     "duration": 0.013743,
     "end_time": "2025-08-16T08:56:10.824242",
     "exception": false,
     "start_time": "2025-08-16T08:56:10.810499",
     "status": "completed"
    },
    "tags": []
   },
   "outputs": [],
   "source": [
    "\n",
    "def get_criterion(num_classes: int, label_smoothing: float = 0.1):\n",
    "    return nn.CrossEntropyLoss(label_smoothing=label_smoothing).to(device)\n",
    "\n",
    "def get_optimizer(model, lr=3e-4, weight_decay=1e-4):\n",
    "    return optim.AdamW(model.parameters(), lr=lr, weight_decay=weight_decay)\n",
    "\n",
    "def get_scheduler(optimizer, T_max_epochs: int):\n",
    "    return CosineAnnealingLR(optimizer, T_max=T_max_epochs, eta_min=1e-6)\n"
   ]
  },
  {
   "cell_type": "code",
   "execution_count": 26,
   "id": "c63c8116",
   "metadata": {
    "execution": {
     "iopub.execute_input": "2025-08-16T08:56:10.842402Z",
     "iopub.status.busy": "2025-08-16T08:56:10.842230Z",
     "iopub.status.idle": "2025-08-16T08:56:10.854851Z",
     "shell.execute_reply": "2025-08-16T08:56:10.854336Z"
    },
    "papermill": {
     "duration": 0.022882,
     "end_time": "2025-08-16T08:56:10.855924",
     "exception": false,
     "start_time": "2025-08-16T08:56:10.833042",
     "status": "completed"
    },
    "tags": []
   },
   "outputs": [],
   "source": [
    "\n",
    "def train_epochs(model: torch.nn.Module,\n",
    "                 train_loader,\n",
    "                 val_loader=None,\n",
    "                 num_classes: Optional[int] = None,\n",
    "                 epochs: int = 20,\n",
    "                 lr: float = 3e-4,\n",
    "                 weight_decay: float = 1e-4,\n",
    "                 label_smoothing: float = 0.1,\n",
    "                 grad_clip_norm: float = 1.0,\n",
    "                 mix_p: float = 0.0,\n",
    "                 patience: int = 7,\n",
    "                 save_path: str = \"best_model.pth\"):\n",
    "    model = model.to(device)\n",
    "    criterion = get_criterion(num_classes=num_classes, label_smoothing=label_smoothing)\n",
    "    optimizer = get_optimizer(model, lr=lr, weight_decay=weight_decay)\n",
    "    scheduler = get_scheduler(optimizer, T_max_epochs=epochs)\n",
    "    scaler = GradScaler(enabled=torch.cuda.is_available())\n",
    "    mix_helper = MixupCutmix(p=mix_p, num_classes=num_classes) if mix_p > 0 and num_classes is not None else None\n",
    "\n",
    "    best_val = float(\"inf\")\n",
    "    best_epoch = -1\n",
    "    history = {\"train_loss\": [], \"val_loss\": []}\n",
    "\n",
    "    for epoch in range(1, epochs + 1):\n",
    "        model.train()\n",
    "        running = 0.0\n",
    "        n = 0\n",
    "        for batch in train_loader:\n",
    "            if isinstance(batch, (list, tuple)) and len(batch) >= 2:\n",
    "                inputs, targets = batch[0].to(device), batch[1].to(device)\n",
    "            elif isinstance(batch, dict):\n",
    "                inputs, targets = batch.get(\"image\").to(device), batch.get(\"label\").to(device)\n",
    "            else:\n",
    "                raise ValueError(\"Unsupported batch format\")\n",
    "\n",
    "            optimizer.zero_grad(set_to_none=True)\n",
    "            with autocast(enabled=torch.cuda.is_available()):\n",
    "                if mix_helper is not None:\n",
    "                    mixed_x, y_a, y_b, lam, _ = mix_helper(inputs, targets)\n",
    "                    outputs = model(mixed_x)\n",
    "                    if outputs.ndim > 2:\n",
    "                        outputs = torch.squeeze(outputs)\n",
    "                    loss = lam * criterion(outputs, y_a) + (1 - lam) * criterion(outputs, y_b)\n",
    "                else:\n",
    "                    outputs = model(inputs)\n",
    "                    if outputs.ndim > 2:\n",
    "                        outputs = torch.squeeze(outputs)\n",
    "                    loss = criterion(outputs, targets)\n",
    "\n",
    "            scaler.scale(loss).backward()\n",
    "            if grad_clip_norm is not None:\n",
    "                scaler.unscale_(optimizer)\n",
    "                torch.nn.utils.clip_grad_norm_(model.parameters(), grad_clip_norm)\n",
    "            scaler.step(optimizer)\n",
    "            scaler.update()\n",
    "\n",
    "            running += loss.item() * inputs.size(0)\n",
    "            n += inputs.size(0)\n",
    "\n",
    "        train_loss = running / max(1, n)\n",
    "        history[\"train_loss\"].append(train_loss)\n",
    "\n",
    "        if val_loader is not None:\n",
    "            model.eval()\n",
    "            v_running = 0.0\n",
    "            v_n = 0\n",
    "            with torch.no_grad():\n",
    "                for batch in val_loader:\n",
    "                    if isinstance(batch, (list, tuple)) and len(batch) >= 2:\n",
    "                        inputs, targets = batch[0].to(device), batch[1].to(device)\n",
    "                    elif isinstance(batch, dict):\n",
    "                        inputs, targets = batch.get(\"image\").to(device), batch.get(\"label\").to(device)\n",
    "                    else:\n",
    "                        raise ValueError(\"Unsupported batch format\")\n",
    "                    with autocast(enabled=torch.cuda.is_available()):\n",
    "                        outputs = model(inputs)\n",
    "                        if outputs.ndim > 2:\n",
    "                            outputs = torch.squeeze(outputs)\n",
    "                        v_loss = criterion(outputs, targets)\n",
    "                    v_running += v_loss.item() * inputs.size(0)\n",
    "                    v_n += inputs.size(0)\n",
    "            val_loss = v_running / max(1, v_n)\n",
    "            history[\"val_loss\"].append(val_loss)\n",
    "\n",
    "            if val_loss < best_val:\n",
    "                best_val = val_loss\n",
    "                best_epoch = epoch\n",
    "                import torch as _torch\n",
    "                _torch.save({\"model\": model.state_dict(), \"epoch\": epoch, \"val_loss\": val_loss}, save_path)\n",
    "        else:\n",
    "            val_loss = float(\"nan\")\n",
    "            history[\"val_loss\"].append(val_loss)\n",
    "\n",
    "        scheduler.step()\n",
    "        print(f\"Epoch {epoch:03d}/{epochs} | train_loss={train_loss:.4f} val_loss={val_loss:.4f}\")\n",
    "\n",
    "        if (val_loader is not None) and (epoch - best_epoch >= patience):\n",
    "            print(f\"Early stopping at epoch {epoch} (best @ {best_epoch} val_loss={best_val:.4f})\")\n",
    "            break\n",
    "\n",
    "    if val_loader is not None and os.path.exists(save_path):\n",
    "        ckpt = torch.load(save_path, map_location=device)\n",
    "        model.load_state_dict(ckpt[\"model\"])\n",
    "        print(f\"Loaded best checkpoint from epoch {ckpt['epoch']} with val_loss={ckpt['val_loss']:.4f}\")\n",
    "\n",
    "    return model, history\n"
   ]
  },
  {
   "cell_type": "code",
   "execution_count": 27,
   "id": "f03346f6",
   "metadata": {
    "execution": {
     "iopub.execute_input": "2025-08-16T08:56:10.873745Z",
     "iopub.status.busy": "2025-08-16T08:56:10.873541Z",
     "iopub.status.idle": "2025-08-16T08:56:10.879722Z",
     "shell.execute_reply": "2025-08-16T08:56:10.878948Z"
    },
    "papermill": {
     "duration": 0.016254,
     "end_time": "2025-08-16T08:56:10.880792",
     "exception": false,
     "start_time": "2025-08-16T08:56:10.864538",
     "status": "completed"
    },
    "tags": []
   },
   "outputs": [
    {
     "name": "stdout",
     "output_type": "stream",
     "text": [
      "✅ Existing model/loaders detected; demo setup skipped.\n"
     ]
    }
   ],
   "source": [
    "# ==== Minimal example: model + loaders (safe, only if missing) ====\n",
    "# This block sets up a tiny supervised demo so the auto-run can train.\n",
    "# It will NOT overwrite your own setup if `model` and `train_loader` already exist.\n",
    "try:\n",
    "    import torch\n",
    "    import torch.nn as nn\n",
    "    from torch.utils.data import DataLoader\n",
    "    import torchvision.models as models\n",
    "    import torchvision.transforms as T\n",
    "    import torchvision.datasets as datasets\n",
    "except Exception as e:\n",
    "    print(\"Imports failed:\", e)\n",
    "\n",
    "if \"model\" not in globals() or \"train_loader\" not in globals():\n",
    "    DEVICE = \"cuda\" if torch.cuda.is_available() else \"cpu\"\n",
    "    num_classes = globals().get(\"num_classes\", 10)\n",
    "    transform = T.Compose([T.Resize((64, 64)), T.ToTensor()])\n",
    "    train_ds = datasets.FakeData(size=400, image_size=(3, 64, 64), num_classes=num_classes, transform=transform)\n",
    "    val_ds   = datasets.FakeData(size=100, image_size=(3, 64, 64), num_classes=num_classes, transform=transform)\n",
    "    train_loader = DataLoader(train_ds, batch_size=32, shuffle=True, num_workers=2, pin_memory=True)\n",
    "    val_loader   = DataLoader(val_ds, batch_size=32, shuffle=False, num_workers=2, pin_memory=True)\n",
    "\n",
    "    model = models.resnet18(weights=None)\n",
    "    model.fc = nn.Linear(model.fc.in_features, num_classes)\n",
    "    model = model.to(DEVICE)\n",
    "    print(\"✅ Initialized demo model & loaders for auto-run.\")\n",
    "else:\n",
    "    print(\"✅ Existing model/loaders detected; demo setup skipped.\")\n"
   ]
  },
  {
   "cell_type": "code",
   "execution_count": 28,
   "id": "6af8c36e",
   "metadata": {
    "execution": {
     "iopub.execute_input": "2025-08-16T08:56:10.899094Z",
     "iopub.status.busy": "2025-08-16T08:56:10.898675Z",
     "iopub.status.idle": "2025-08-16T09:02:19.880767Z",
     "shell.execute_reply": "2025-08-16T09:02:19.879900Z"
    },
    "papermill": {
     "duration": 368.992361,
     "end_time": "2025-08-16T09:02:19.881943",
     "exception": false,
     "start_time": "2025-08-16T08:56:10.889582",
     "status": "completed"
    },
    "tags": []
   },
   "outputs": [
    {
     "name": "stdout",
     "output_type": "stream",
     "text": [
      "🚀 Running improved training loop...\n"
     ]
    },
    {
     "name": "stderr",
     "output_type": "stream",
     "text": [
      "/tmp/ipykernel_19/1085775327.py:17: FutureWarning: `torch.cuda.amp.GradScaler(args...)` is deprecated. Please use `torch.amp.GradScaler('cuda', args...)` instead.\n",
      "  scaler = GradScaler(enabled=torch.cuda.is_available())\n",
      "/tmp/ipykernel_19/1085775327.py:37: FutureWarning: `torch.cuda.amp.autocast(args...)` is deprecated. Please use `torch.amp.autocast('cuda', args...)` instead.\n",
      "  with autocast(enabled=torch.cuda.is_available()):\n",
      "/tmp/ipykernel_19/1085775327.py:75: FutureWarning: `torch.cuda.amp.autocast(args...)` is deprecated. Please use `torch.amp.autocast('cuda', args...)` instead.\n",
      "  with autocast(enabled=torch.cuda.is_available()):\n"
     ]
    },
    {
     "name": "stdout",
     "output_type": "stream",
     "text": [
      "Epoch 001/30 | train_loss=19.9242 val_loss=13.6068\n",
      "Epoch 002/30 | train_loss=12.9503 val_loss=9.3375\n",
      "Epoch 003/30 | train_loss=10.3085 val_loss=7.9471\n",
      "Epoch 004/30 | train_loss=9.3357 val_loss=7.4609\n",
      "Epoch 005/30 | train_loss=9.4912 val_loss=8.2304\n",
      "Epoch 006/30 | train_loss=8.7344 val_loss=6.7851\n",
      "Epoch 007/30 | train_loss=8.1546 val_loss=6.9547\n",
      "Epoch 008/30 | train_loss=8.2349 val_loss=7.3905\n",
      "Epoch 009/30 | train_loss=8.1542 val_loss=6.5892\n",
      "Epoch 010/30 | train_loss=7.9062 val_loss=6.0643\n",
      "Epoch 011/30 | train_loss=7.9923 val_loss=6.3979\n",
      "Epoch 012/30 | train_loss=7.8272 val_loss=12.4994\n",
      "Epoch 013/30 | train_loss=7.6872 val_loss=6.2130\n",
      "Epoch 014/30 | train_loss=7.6290 val_loss=7.0300\n",
      "Epoch 015/30 | train_loss=8.0118 val_loss=6.2849\n",
      "Epoch 016/30 | train_loss=6.9161 val_loss=5.4953\n",
      "Epoch 017/30 | train_loss=7.4414 val_loss=6.0993\n",
      "Epoch 018/30 | train_loss=7.5215 val_loss=6.0702\n",
      "Epoch 019/30 | train_loss=7.2720 val_loss=5.8515\n",
      "Epoch 020/30 | train_loss=7.0934 val_loss=5.6767\n",
      "Epoch 021/30 | train_loss=7.2507 val_loss=9.6383\n",
      "Epoch 022/30 | train_loss=7.1572 val_loss=7.6280\n",
      "Epoch 023/30 | train_loss=7.3884 val_loss=6.1926\n",
      "Epoch 024/30 | train_loss=7.2701 val_loss=8.0210\n",
      "Early stopping at epoch 24 (best @ 16 val_loss=5.4953)\n",
      "Loaded best checkpoint from epoch 16 with val_loss=5.4953\n"
     ]
    },
    {
     "data": {
      "image/png": "[encoded data removed]",
      "text/plain": [
       "<Figure size 640x480 with 1 Axes>"
      ]
     },
     "metadata": {},
     "output_type": "display_data"
    }
   ],
   "source": [
    "# Auto-detect & run training (safe). If your variables are not ready, we just print guidance.\n",
    "def _maybe_get(name):\n",
    "    return globals().get(name, None)\n",
    "\n",
    "_model = _maybe_get(\"model\")\n",
    "_train_loader = _maybe_get(\"train_loader\")\n",
    "_val_loader = _maybe_get(\"val_loader\")\n",
    "_num_classes = _maybe_get(\"num_classes\")\n",
    "\n",
    "if _model is None or _train_loader is None:\n",
    "    print(\n",
    "        \"⚠️ Skipped auto-run: please ensure `model` and `train_loader` exist, then run:\\n\"\n",
    "        \"model, history = train_epochs(model, train_loader, val_loader, num_classes=<int>, epochs=50, mix_p=0.2, patience=10)\"\n",
    "    )\n",
    "else:\n",
    "    if _num_classes is None:\n",
    "        try:\n",
    "            last = getattr(_model, \"fc\", None) or getattr(_model, \"classifier\", None)\n",
    "            _num_classes = last.out_features if hasattr(last, \"out_features\") else None\n",
    "        except Exception:\n",
    "            _num_classes = None\n",
    "\n",
    "    print(\"🚀 Running improved training loop...\")\n",
    "    model, history = train_epochs(\n",
    "        _model,\n",
    "        _train_loader,\n",
    "        _val_loader,\n",
    "        num_classes=_num_classes,\n",
    "        epochs=30,\n",
    "        lr=3e-4,\n",
    "        weight_decay=1e-4,\n",
    "        label_smoothing=0.1,\n",
    "        grad_clip_norm=1.0,\n",
    "        mix_p=0.2 if _num_classes else 0.0,\n",
    "        patience=8,\n",
    "        save_path=\"best_model.pth\"\n",
    "    )\n",
    "\n",
    "    try:\n",
    "        import matplotlib.pyplot as plt\n",
    "        plt.figure()\n",
    "        plt.plot(history['train_loss'], label='train')\n",
    "        if all([isinstance(v, float) and v == v for v in history['val_loss']]):\n",
    "            plt.plot(history['val_loss'], label='val')\n",
    "        plt.legend()\n",
    "        plt.title('Loss')\n",
    "        plt.xlabel('epoch')\n",
    "        plt.ylabel('loss')\n",
    "        plt.show()\n",
    "    except Exception as e:\n",
    "        print(\"Plot skipped:\", e)\n"
   ]
  }
 ],
 "metadata": {
  "kaggle": {
   "accelerator": "gpu",
   "dataSources": [
    {
     "datasetId": 918039,
     "sourceId": 1663377,
     "sourceType": "datasetVersion"
    }
   ],
   "dockerImageVersionId": 31089,
   "isGpuEnabled": true,
   "isInternetEnabled": false,
   "language": "python",
   "sourceType": "notebook"
  },
  "kernelspec": {
   "display_name": "Python 3",
   "language": "python",
   "name": "python3"
  },
  "language_info": {
   "codemirror_mode": {
    "name": "ipython",
    "version": 3
   },
   "file_extension": ".py",
   "mimetype": "text/x-python",
   "name": "python",
   "nbconvert_exporter": "python",
   "pygments_lexer": "ipython3",
   "version": "3.11.13"
  },
  "papermill": {
   "default_parameters": {},
   "duration": 1303.715092,
   "end_time": "2025-08-16T09:02:22.113676",
   "environment_variables": {},
   "exception": null,
   "input_path": "__notebook__.ipynb",
   "output_path": "__notebook__.ipynb",
   "parameters": {},
   "start_time": "2025-08-16T08:40:38.398584",
   "version": "2.6.0"
  }
 },
 "nbformat": 4,
 "nbformat_minor": 5
}
