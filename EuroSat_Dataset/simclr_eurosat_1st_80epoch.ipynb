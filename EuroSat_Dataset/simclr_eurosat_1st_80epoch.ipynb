{
 "cells": [
  {
   "cell_type": "code",
   "execution_count": 1,
   "id": "369ae751",
   "metadata": {
    "execution": {
     "iopub.execute_input": "2025-07-22T02:48:03.528087Z",
     "iopub.status.busy": "2025-07-22T02:48:03.527866Z",
     "iopub.status.idle": "2025-07-22T02:48:03.531276Z",
     "shell.execute_reply": "2025-07-22T02:48:03.530794Z"
    },
    "id": "9xwPMJJ5KIVe",
    "papermill": {
     "duration": 0.007702,
     "end_time": "2025-07-22T02:48:03.532320",
     "exception": false,
     "start_time": "2025-07-22T02:48:03.524618",
     "status": "completed"
    },
    "tags": []
   },
   "outputs": [],
   "source": [
    "#pip install torch torchvision"
   ]
  },
  {
   "cell_type": "code",
   "execution_count": 2,
   "id": "43fd65ec",
   "metadata": {
    "execution": {
     "iopub.execute_input": "2025-07-22T02:48:03.537521Z",
     "iopub.status.busy": "2025-07-22T02:48:03.537319Z",
     "iopub.status.idle": "2025-07-22T02:48:16.462997Z",
     "shell.execute_reply": "2025-07-22T02:48:16.462401Z"
    },
    "papermill": {
     "duration": 12.929624,
     "end_time": "2025-07-22T02:48:16.464476",
     "exception": false,
     "start_time": "2025-07-22T02:48:03.534852",
     "status": "completed"
    },
    "tags": []
   },
   "outputs": [],
   "source": [
    "import os\n",
    "import torch\n",
    "import torch.nn as nn\n",
    "import torch.nn.functional as F\n",
    "from torchvision import transforms, datasets, models\n",
    "from torch.utils.data import DataLoader, Dataset, random_split\n",
    "import numpy as np\n",
    "import matplotlib.pyplot as plt\n",
    "import torch.optim as optim"
   ]
  },
  {
   "cell_type": "code",
   "execution_count": 3,
   "id": "b953ed8a",
   "metadata": {
    "execution": {
     "iopub.execute_input": "2025-07-22T02:48:16.469749Z",
     "iopub.status.busy": "2025-07-22T02:48:16.469447Z",
     "iopub.status.idle": "2025-07-22T02:48:16.474000Z",
     "shell.execute_reply": "2025-07-22T02:48:16.473500Z"
    },
    "papermill": {
     "duration": 0.008128,
     "end_time": "2025-07-22T02:48:16.474945",
     "exception": false,
     "start_time": "2025-07-22T02:48:16.466817",
     "status": "completed"
    },
    "tags": []
   },
   "outputs": [],
   "source": [
    "# SimCLR Augmentations\n",
    "simclr_transform = transforms.Compose([\n",
    "    transforms.RandomResizedCrop(224),\n",
    "    transforms.RandomHorizontalFlip(),\n",
    "    transforms.RandomApply([transforms.ColorJitter(0.4, 0.4, 0.4, 0.1)], p=0.8),\n",
    "    transforms.ToTensor()\n",
    "])\n",
    "\n",
    "# Dataset wrapper for contrastive pairs\n",
    "class SimCLRDataset(Dataset):\n",
    "    def __init__(self, dataset):\n",
    "        self.dataset = dataset\n",
    "\n",
    "    def __getitem__(self, index):\n",
    "        x, _ = self.dataset[index]\n",
    "        return simclr_transform(x), simclr_transform(x)\n",
    "\n",
    "    def __len__(self):\n",
    "        return len(self.dataset)"
   ]
  },
  {
   "cell_type": "code",
   "execution_count": 4,
   "id": "05ccb265",
   "metadata": {
    "execution": {
     "iopub.execute_input": "2025-07-22T02:48:16.479772Z",
     "iopub.status.busy": "2025-07-22T02:48:16.479407Z",
     "iopub.status.idle": "2025-07-22T02:48:16.483925Z",
     "shell.execute_reply": "2025-07-22T02:48:16.483256Z"
    },
    "id": "6jmWJ9sZLIFU",
    "papermill": {
     "duration": 0.008116,
     "end_time": "2025-07-22T02:48:16.485036",
     "exception": false,
     "start_time": "2025-07-22T02:48:16.476920",
     "status": "completed"
    },
    "tags": []
   },
   "outputs": [],
   "source": [
    "class SimCLRModel(nn.Module):\n",
    "    def __init__(self, projection_dim=128):\n",
    "        super().__init__()\n",
    "        base_model = models.resnet50(pretrained=False)\n",
    "\n",
    "        # Remove the final FC layer and keep only the encoder\n",
    "        num_ftrs = base_model.fc.in_features\n",
    "        base_model.fc = nn.Identity()  # No classification layer\n",
    "\n",
    "        self.encoder = base_model\n",
    "\n",
    "        # Add projection head (MLP)\n",
    "        self.projector = nn.Sequential(\n",
    "            nn.Linear(num_ftrs, 256),\n",
    "            nn.ReLU(),\n",
    "            nn.Linear(256, projection_dim)\n",
    "        )\n",
    "\n",
    "    def forward(self, x):\n",
    "        h = self.encoder(x)  \n",
    "        z = self.projector(h)\n",
    "        return F.normalize(z, dim=1)"
   ]
  },
  {
   "cell_type": "code",
   "execution_count": 5,
   "id": "022dd4f4",
   "metadata": {
    "execution": {
     "iopub.execute_input": "2025-07-22T02:48:16.489604Z",
     "iopub.status.busy": "2025-07-22T02:48:16.489411Z",
     "iopub.status.idle": "2025-07-22T02:48:16.494236Z",
     "shell.execute_reply": "2025-07-22T02:48:16.493706Z"
    },
    "papermill": {
     "duration": 0.008282,
     "end_time": "2025-07-22T02:48:16.495276",
     "exception": false,
     "start_time": "2025-07-22T02:48:16.486994",
     "status": "completed"
    },
    "tags": []
   },
   "outputs": [],
   "source": [
    "def contrastive_loss(z1, z2, temperature=0.5):\n",
    "    N = z1.size(0)\n",
    "    z = torch.cat([z1, z2], dim=0)\n",
    "    sim = F.cosine_similarity(z.unsqueeze(1), z.unsqueeze(0), dim=2)\n",
    "\n",
    "    labels = torch.arange(N).repeat(2)\n",
    "    labels = (labels.unsqueeze(0) == labels.unsqueeze(1)).float().to(z.device)\n",
    "    mask = torch.eye(2 * N).bool().to(z.device)\n",
    "    labels = labels[~mask].view(2 * N, -1)\n",
    "\n",
    "    sim = sim[~mask].view(2 * N, -1) / temperature\n",
    "    loss = -torch.log((torch.exp(sim) * labels).sum(1) / torch.exp(sim).sum(1))\n",
    "    return loss.mean()"
   ]
  },
  {
   "cell_type": "code",
   "execution_count": 6,
   "id": "014948b1",
   "metadata": {
    "execution": {
     "iopub.execute_input": "2025-07-22T02:48:16.499831Z",
     "iopub.status.busy": "2025-07-22T02:48:16.499640Z",
     "iopub.status.idle": "2025-07-22T02:48:59.389183Z",
     "shell.execute_reply": "2025-07-22T02:48:59.388409Z"
    },
    "papermill": {
     "duration": 42.893398,
     "end_time": "2025-07-22T02:48:59.390621",
     "exception": false,
     "start_time": "2025-07-22T02:48:16.497223",
     "status": "completed"
    },
    "tags": []
   },
   "outputs": [],
   "source": [
    "dataset_path = \"/kaggle/input/eurosat-dataset/EuroSAT\"\n",
    "\n",
    "eurosat_raw = datasets.ImageFolder(root=dataset_path, transform=lambda x: x)\n",
    "simclr_dataset = SimCLRDataset(eurosat_raw)\n",
    "train_loader = DataLoader(simclr_dataset, batch_size=64, shuffle=True, num_workers=2)"
   ]
  },
  {
   "cell_type": "code",
   "execution_count": 7,
   "id": "fcdb8b47",
   "metadata": {
    "execution": {
     "iopub.execute_input": "2025-07-22T02:48:59.395917Z",
     "iopub.status.busy": "2025-07-22T02:48:59.395685Z",
     "iopub.status.idle": "2025-07-22T02:48:59.488806Z",
     "shell.execute_reply": "2025-07-22T02:48:59.488173Z"
    },
    "papermill": {
     "duration": 0.096852,
     "end_time": "2025-07-22T02:48:59.489944",
     "exception": false,
     "start_time": "2025-07-22T02:48:59.393092",
     "status": "completed"
    },
    "tags": []
   },
   "outputs": [],
   "source": [
    "device = torch.device(\"cuda\" if torch.cuda.is_available() else \"cpu\")"
   ]
  },
  {
   "cell_type": "code",
   "execution_count": 8,
   "id": "84582fbe",
   "metadata": {
    "execution": {
     "iopub.execute_input": "2025-07-22T02:48:59.495472Z",
     "iopub.status.busy": "2025-07-22T02:48:59.495242Z",
     "iopub.status.idle": "2025-07-22T14:44:45.494577Z",
     "shell.execute_reply": "2025-07-22T14:44:45.493650Z"
    },
    "papermill": {
     "duration": 42946.00947,
     "end_time": "2025-07-22T14:44:45.501870",
     "exception": false,
     "start_time": "2025-07-22T02:48:59.492400",
     "status": "completed"
    },
    "tags": []
   },
   "outputs": [
    {
     "name": "stderr",
     "output_type": "stream",
     "text": [
      "/usr/local/lib/python3.11/dist-packages/torchvision/models/_utils.py:208: UserWarning: The parameter 'pretrained' is deprecated since 0.13 and may be removed in the future, please use 'weights' instead.\n",
      "  warnings.warn(\n",
      "/usr/local/lib/python3.11/dist-packages/torchvision/models/_utils.py:223: UserWarning: Arguments other than a weight enum or `None` for 'weights' are deprecated since 0.13 and may be removed in the future. The current behavior is equivalent to passing `weights=None`.\n",
      "  warnings.warn(msg)\n"
     ]
    },
    {
     "name": "stdout",
     "output_type": "stream",
     "text": [
      "Epoch [1/80], Loss: 3.7898\n"
     ]
    },
    {
     "name": "stdout",
     "output_type": "stream",
     "text": [
      "Epoch [2/80], Loss: 3.5544\n"
     ]
    },
    {
     "name": "stdout",
     "output_type": "stream",
     "text": [
      "Epoch [3/80], Loss: 3.4912\n"
     ]
    },
    {
     "name": "stdout",
     "output_type": "stream",
     "text": [
      "Epoch [4/80], Loss: 3.4483\n"
     ]
    },
    {
     "name": "stdout",
     "output_type": "stream",
     "text": [
      "Epoch [5/80], Loss: 3.4265\n"
     ]
    },
    {
     "name": "stdout",
     "output_type": "stream",
     "text": [
      "Epoch [6/80], Loss: 3.3989\n"
     ]
    },
    {
     "name": "stdout",
     "output_type": "stream",
     "text": [
      "Epoch [7/80], Loss: 3.3785\n"
     ]
    },
    {
     "name": "stdout",
     "output_type": "stream",
     "text": [
      "Epoch [8/80], Loss: 3.3631\n"
     ]
    },
    {
     "name": "stdout",
     "output_type": "stream",
     "text": [
      "Epoch [9/80], Loss: 3.3421\n"
     ]
    },
    {
     "name": "stdout",
     "output_type": "stream",
     "text": [
      "Epoch [10/80], Loss: 3.3282\n"
     ]
    },
    {
     "name": "stdout",
     "output_type": "stream",
     "text": [
      "Epoch [11/80], Loss: 3.3227\n"
     ]
    },
    {
     "name": "stdout",
     "output_type": "stream",
     "text": [
      "Epoch [12/80], Loss: 3.3080\n"
     ]
    },
    {
     "name": "stdout",
     "output_type": "stream",
     "text": [
      "Epoch [13/80], Loss: 3.2974\n"
     ]
    },
    {
     "name": "stdout",
     "output_type": "stream",
     "text": [
      "Epoch [14/80], Loss: 3.2865\n"
     ]
    },
    {
     "name": "stdout",
     "output_type": "stream",
     "text": [
      "Epoch [15/80], Loss: 3.2778\n"
     ]
    },
    {
     "name": "stdout",
     "output_type": "stream",
     "text": [
      "Epoch [16/80], Loss: 3.2750\n"
     ]
    },
    {
     "name": "stdout",
     "output_type": "stream",
     "text": [
      "Epoch [17/80], Loss: 3.2629\n"
     ]
    },
    {
     "name": "stdout",
     "output_type": "stream",
     "text": [
      "Epoch [18/80], Loss: 3.2596\n"
     ]
    },
    {
     "name": "stdout",
     "output_type": "stream",
     "text": [
      "Epoch [19/80], Loss: 3.2566\n"
     ]
    },
    {
     "name": "stdout",
     "output_type": "stream",
     "text": [
      "Epoch [20/80], Loss: 3.2498\n"
     ]
    },
    {
     "name": "stdout",
     "output_type": "stream",
     "text": [
      "Epoch [21/80], Loss: 3.2443\n"
     ]
    },
    {
     "name": "stdout",
     "output_type": "stream",
     "text": [
      "Epoch [22/80], Loss: 3.2410\n"
     ]
    },
    {
     "name": "stdout",
     "output_type": "stream",
     "text": [
      "Epoch [23/80], Loss: 3.2355\n"
     ]
    },
    {
     "name": "stdout",
     "output_type": "stream",
     "text": [
      "Epoch [24/80], Loss: 3.2330\n"
     ]
    },
    {
     "name": "stdout",
     "output_type": "stream",
     "text": [
      "Epoch [25/80], Loss: 3.2273\n"
     ]
    },
    {
     "name": "stdout",
     "output_type": "stream",
     "text": [
      "Epoch [26/80], Loss: 3.2252\n"
     ]
    },
    {
     "name": "stdout",
     "output_type": "stream",
     "text": [
      "Epoch [27/80], Loss: 3.2227\n"
     ]
    },
    {
     "name": "stdout",
     "output_type": "stream",
     "text": [
      "Epoch [28/80], Loss: 3.2209\n"
     ]
    },
    {
     "name": "stdout",
     "output_type": "stream",
     "text": [
      "Epoch [29/80], Loss: 3.2133\n"
     ]
    },
    {
     "name": "stdout",
     "output_type": "stream",
     "text": [
      "Epoch [30/80], Loss: 3.2107\n"
     ]
    },
    {
     "name": "stdout",
     "output_type": "stream",
     "text": [
      "Epoch [31/80], Loss: 3.2135\n"
     ]
    },
    {
     "name": "stdout",
     "output_type": "stream",
     "text": [
      "Epoch [32/80], Loss: 3.2091\n"
     ]
    },
    {
     "name": "stdout",
     "output_type": "stream",
     "text": [
      "Epoch [33/80], Loss: 3.2062\n"
     ]
    },
    {
     "name": "stdout",
     "output_type": "stream",
     "text": [
      "Epoch [34/80], Loss: 3.2047\n"
     ]
    },
    {
     "name": "stdout",
     "output_type": "stream",
     "text": [
      "Epoch [35/80], Loss: 3.2012\n"
     ]
    },
    {
     "name": "stdout",
     "output_type": "stream",
     "text": [
      "Epoch [36/80], Loss: 3.1963\n"
     ]
    },
    {
     "name": "stdout",
     "output_type": "stream",
     "text": [
      "Epoch [37/80], Loss: 3.1988\n"
     ]
    },
    {
     "name": "stdout",
     "output_type": "stream",
     "text": [
      "Epoch [38/80], Loss: 3.1909\n"
     ]
    },
    {
     "name": "stdout",
     "output_type": "stream",
     "text": [
      "Epoch [39/80], Loss: 3.1891\n"
     ]
    },
    {
     "name": "stdout",
     "output_type": "stream",
     "text": [
      "Epoch [40/80], Loss: 3.1887\n"
     ]
    },
    {
     "name": "stdout",
     "output_type": "stream",
     "text": [
      "Epoch [41/80], Loss: 3.1891\n"
     ]
    },
    {
     "name": "stdout",
     "output_type": "stream",
     "text": [
      "Epoch [42/80], Loss: 3.1869\n"
     ]
    },
    {
     "name": "stdout",
     "output_type": "stream",
     "text": [
      "Epoch [43/80], Loss: 3.1864\n"
     ]
    },
    {
     "name": "stdout",
     "output_type": "stream",
     "text": [
      "Epoch [44/80], Loss: 3.1827\n"
     ]
    },
    {
     "name": "stdout",
     "output_type": "stream",
     "text": [
      "Epoch [45/80], Loss: 3.1808\n"
     ]
    },
    {
     "name": "stdout",
     "output_type": "stream",
     "text": [
      "Epoch [46/80], Loss: 3.1764\n"
     ]
    },
    {
     "name": "stdout",
     "output_type": "stream",
     "text": [
      "Epoch [47/80], Loss: 3.1753\n"
     ]
    },
    {
     "name": "stdout",
     "output_type": "stream",
     "text": [
      "Epoch [48/80], Loss: 3.1741\n"
     ]
    },
    {
     "name": "stdout",
     "output_type": "stream",
     "text": [
      "Epoch [49/80], Loss: 3.1743\n"
     ]
    },
    {
     "name": "stdout",
     "output_type": "stream",
     "text": [
      "Epoch [50/80], Loss: 3.1690\n"
     ]
    },
    {
     "name": "stdout",
     "output_type": "stream",
     "text": [
      "Epoch [51/80], Loss: 3.1649\n"
     ]
    },
    {
     "name": "stdout",
     "output_type": "stream",
     "text": [
      "Epoch [52/80], Loss: 3.1691\n"
     ]
    },
    {
     "name": "stdout",
     "output_type": "stream",
     "text": [
      "Epoch [53/80], Loss: 3.1653\n"
     ]
    },
    {
     "name": "stdout",
     "output_type": "stream",
     "text": [
      "Epoch [54/80], Loss: 3.1648\n"
     ]
    },
    {
     "name": "stdout",
     "output_type": "stream",
     "text": [
      "Epoch [55/80], Loss: 3.1617\n"
     ]
    },
    {
     "name": "stdout",
     "output_type": "stream",
     "text": [
      "Epoch [56/80], Loss: 3.1627\n"
     ]
    },
    {
     "name": "stdout",
     "output_type": "stream",
     "text": [
      "Epoch [57/80], Loss: 3.1606\n"
     ]
    },
    {
     "name": "stdout",
     "output_type": "stream",
     "text": [
      "Epoch [58/80], Loss: 3.1587\n"
     ]
    },
    {
     "name": "stdout",
     "output_type": "stream",
     "text": [
      "Epoch [59/80], Loss: 3.1583\n"
     ]
    },
    {
     "name": "stdout",
     "output_type": "stream",
     "text": [
      "Epoch [60/80], Loss: 3.1566\n"
     ]
    },
    {
     "name": "stdout",
     "output_type": "stream",
     "text": [
      "Epoch [61/80], Loss: 3.1563\n"
     ]
    },
    {
     "name": "stdout",
     "output_type": "stream",
     "text": [
      "Epoch [62/80], Loss: 3.1523\n"
     ]
    },
    {
     "name": "stdout",
     "output_type": "stream",
     "text": [
      "Epoch [63/80], Loss: 3.1494\n"
     ]
    },
    {
     "name": "stdout",
     "output_type": "stream",
     "text": [
      "Epoch [64/80], Loss: 3.1484\n"
     ]
    },
    {
     "name": "stdout",
     "output_type": "stream",
     "text": [
      "Epoch [65/80], Loss: 3.1478\n"
     ]
    },
    {
     "name": "stdout",
     "output_type": "stream",
     "text": [
      "Epoch [66/80], Loss: 3.1483\n"
     ]
    },
    {
     "name": "stdout",
     "output_type": "stream",
     "text": [
      "Epoch [67/80], Loss: 3.1485\n"
     ]
    },
    {
     "name": "stdout",
     "output_type": "stream",
     "text": [
      "Epoch [68/80], Loss: 3.1462\n"
     ]
    },
    {
     "name": "stdout",
     "output_type": "stream",
     "text": [
      "Epoch [69/80], Loss: 3.1418\n"
     ]
    },
    {
     "name": "stdout",
     "output_type": "stream",
     "text": [
      "Epoch [70/80], Loss: 3.1407\n"
     ]
    },
    {
     "name": "stdout",
     "output_type": "stream",
     "text": [
      "Epoch [71/80], Loss: 3.1430\n"
     ]
    },
    {
     "name": "stdout",
     "output_type": "stream",
     "text": [
      "Epoch [72/80], Loss: 3.1415\n"
     ]
    },
    {
     "name": "stdout",
     "output_type": "stream",
     "text": [
      "Epoch [73/80], Loss: 3.1421\n"
     ]
    },
    {
     "name": "stdout",
     "output_type": "stream",
     "text": [
      "Epoch [74/80], Loss: 3.1378\n"
     ]
    },
    {
     "name": "stdout",
     "output_type": "stream",
     "text": [
      "Epoch [75/80], Loss: 3.1377\n"
     ]
    },
    {
     "name": "stdout",
     "output_type": "stream",
     "text": [
      "Epoch [76/80], Loss: 3.1375\n"
     ]
    },
    {
     "name": "stdout",
     "output_type": "stream",
     "text": [
      "Epoch [77/80], Loss: 3.1362\n"
     ]
    },
    {
     "name": "stdout",
     "output_type": "stream",
     "text": [
      "Epoch [78/80], Loss: 3.1318\n"
     ]
    },
    {
     "name": "stdout",
     "output_type": "stream",
     "text": [
      "Epoch [79/80], Loss: 3.1344\n"
     ]
    },
    {
     "name": "stdout",
     "output_type": "stream",
     "text": [
      "Epoch [80/80], Loss: 3.1350\n"
     ]
    }
   ],
   "source": [
    "# Track pretext losses per epoch\n",
    "pretext_losses = []\n",
    "\n",
    "# Create SimCLR model and optimizer\n",
    "model = SimCLRModel().to(device)\n",
    "optimizer = torch.optim.Adam(model.parameters(), lr=3e-4)\n",
    "\n",
    "epochs = 80\n",
    "\n",
    "# SimCLR Pretext Training Loop\n",
    "for epoch in range(epochs):\n",
    "    model.train()\n",
    "    total_loss = 0\n",
    "\n",
    "    for x1, x2 in train_loader:\n",
    "        x1, x2 = x1.to(device), x2.to(device)\n",
    "        z1, z2 = model(x1), model(x2)\n",
    "        loss = contrastive_loss(z1, z2)\n",
    "\n",
    "        optimizer.zero_grad()\n",
    "        loss.backward()\n",
    "        optimizer.step()\n",
    "\n",
    "        total_loss += loss.item()\n",
    "\n",
    "    avg_loss = total_loss / len(train_loader)\n",
    "    pretext_losses.append(avg_loss)\n",
    "    print(f\"Epoch [{epoch+1}/{epochs}], Loss: {avg_loss:.4f}\")"
   ]
  },
  {
   "cell_type": "code",
   "execution_count": 9,
   "id": "dffe7f5e",
   "metadata": {
    "execution": {
     "iopub.execute_input": "2025-07-22T14:44:45.513581Z",
     "iopub.status.busy": "2025-07-22T14:44:45.513340Z",
     "iopub.status.idle": "2025-07-22T14:44:45.667108Z",
     "shell.execute_reply": "2025-07-22T14:44:45.666387Z"
    },
    "papermill": {
     "duration": 0.161397,
     "end_time": "2025-07-22T14:44:45.668525",
     "exception": false,
     "start_time": "2025-07-22T14:44:45.507128",
     "status": "completed"
    },
    "tags": []
   },
   "outputs": [
    {
     "name": "stdout",
     "output_type": "stream",
     "text": [
      "Encoder model saved at: /kaggle/working/simclr_encoder_eurosat.pth\n"
     ]
    }
   ],
   "source": [
    "import os\n",
    "save_dir = '/kaggle/working' \n",
    "os.makedirs(save_dir, exist_ok=True)\n",
    "\n",
    "model_path = os.path.join(save_dir, 'simclr_encoder_eurosat.pth')\n",
    "torch.save(model.state_dict(), model_path)\n",
    "print(f\"Encoder model saved at: {model_path}\")"
   ]
  },
  {
   "cell_type": "code",
   "execution_count": 10,
   "id": "20545c72",
   "metadata": {
    "execution": {
     "iopub.execute_input": "2025-07-22T14:44:45.680524Z",
     "iopub.status.busy": "2025-07-22T14:44:45.680318Z",
     "iopub.status.idle": "2025-07-22T14:44:46.096319Z",
     "shell.execute_reply": "2025-07-22T14:44:46.095690Z"
    },
    "papermill": {
     "duration": 0.423296,
     "end_time": "2025-07-22T14:44:46.097519",
     "exception": false,
     "start_time": "2025-07-22T14:44:45.674223",
     "status": "completed"
    },
    "tags": []
   },
   "outputs": [
    {
     "data": {
      "image/png": "[encoded data removed]",
      "text/plain": [
       "<Figure size 640x480 with 1 Axes>"
      ]
     },
     "metadata": {},
     "output_type": "display_data"
    }
   ],
   "source": [
    "# SimCLR pretext loss curve\n",
    "plt.plot(range(1, epochs + 1), pretext_losses, marker='o', label='Contrastive Loss')\n",
    "plt.title('SimCLR Contrastive Loss')\n",
    "plt.xlabel('Epoch')\n",
    "plt.ylabel('NT-Xent Loss')\n",
    "plt.legend()\n",
    "plt.grid()\n",
    "plt.show()"
   ]
  },
  {
   "cell_type": "code",
   "execution_count": 11,
   "id": "ec1473b6",
   "metadata": {
    "execution": {
     "iopub.execute_input": "2025-07-22T14:44:46.110390Z",
     "iopub.status.busy": "2025-07-22T14:44:46.110183Z",
     "iopub.status.idle": "2025-07-22T14:44:46.665114Z",
     "shell.execute_reply": "2025-07-22T14:44:46.664218Z"
    },
    "papermill": {
     "duration": 0.562801,
     "end_time": "2025-07-22T14:44:46.666383",
     "exception": false,
     "start_time": "2025-07-22T14:44:46.103582",
     "status": "completed"
    },
    "tags": []
   },
   "outputs": [
    {
     "name": "stdout",
     "output_type": "stream",
     "text": [
      "Pretrained encoder loaded.\n"
     ]
    }
   ],
   "source": [
    "model = SimCLRModel().to(device)\n",
    "model_path = '/kaggle/working/simclr_encoder_eurosat.pth'\n",
    "model.load_state_dict(torch.load(model_path, map_location=device))\n",
    "print(\"Pretrained encoder loaded.\")"
   ]
  },
  {
   "cell_type": "code",
   "execution_count": 12,
   "id": "a8b7d8db",
   "metadata": {
    "execution": {
     "iopub.execute_input": "2025-07-22T14:44:46.679441Z",
     "iopub.status.busy": "2025-07-22T14:44:46.679202Z"
    },
    "papermill": {
     "duration": null,
     "end_time": null,
     "exception": false,
     "start_time": "2025-07-22T14:44:46.672595",
     "status": "running"
    },
    "tags": []
   },
   "outputs": [
    {
     "name": "stdout",
     "output_type": "stream",
     "text": [
      "Epoch 1: Downstream Loss = 110.6313, Accuracy = 89.51%\n"
     ]
    }
   ],
   "source": [
    "# Freeze encoder weights\n",
    "for param in model.encoder.parameters():\n",
    "    param.requires_grad = False\n",
    "\n",
    "# Define classifier\n",
    "classifier = nn.Linear(2048, 10).to(device)\n",
    "\n",
    "criterion = nn.CrossEntropyLoss()\n",
    "optimizer_cls = torch.optim.Adam(classifier.parameters(), lr=1e-3)\n",
    "\n",
    "# Prepare labeled dataset\n",
    "transform = transforms.Compose([transforms.Resize((224, 224)), transforms.ToTensor()])\n",
    "eurosat = datasets.ImageFolder(\"/kaggle/input/eurosat-dataset/EuroSAT\", transform=transform)\n",
    "\n",
    "train_len = int(0.8 * len(eurosat))\n",
    "val_len = len(eurosat) - train_len\n",
    "train_ds, val_ds = random_split(eurosat, [train_len, val_len])\n",
    "train_loader_cls = DataLoader(train_ds, batch_size=64, shuffle=True)\n",
    "val_loader_cls = DataLoader(val_ds, batch_size=64, shuffle=False)\n",
    "\n",
    "# Train downstream classifier\n",
    "downstream_losses = []\n",
    "downstream_accuracies = []\n",
    "\n",
    "for epoch in range(50):\n",
    "    classifier.train()\n",
    "    total_loss = 0\n",
    "    correct, total = 0, 0\n",
    "\n",
    "    for imgs, labels in train_loader_cls:\n",
    "        imgs, labels = imgs.to(device), labels.to(device)\n",
    "\n",
    "        # Extract frozen features\n",
    "        with torch.no_grad():\n",
    "            features = model.encoder(imgs)\n",
    "\n",
    "        outputs = classifier(features)\n",
    "        loss = criterion(outputs, labels)\n",
    "\n",
    "        optimizer_cls.zero_grad()\n",
    "        loss.backward()\n",
    "        optimizer_cls.step()\n",
    "\n",
    "        total_loss += loss.item()\n",
    "        correct += (outputs.argmax(1) == labels).sum().item()\n",
    "        total += labels.size(0)\n",
    "\n",
    "    acc = 100 * correct / total\n",
    "    print(f\"Epoch {epoch+1}: Downstream Loss = {total_loss:.4f}, Accuracy = {acc:.2f}%\")\n",
    "    downstream_losses.append(total_loss)\n",
    "    downstream_accuracies.append(acc)"
   ]
  },
  {
   "cell_type": "code",
   "execution_count": null,
   "id": "304f098a",
   "metadata": {
    "papermill": {
     "duration": null,
     "end_time": null,
     "exception": null,
     "start_time": null,
     "status": "pending"
    },
    "tags": []
   },
   "outputs": [],
   "source": [
    "plt.plot(range(1, len(downstream_losses)+1), downstream_losses, marker='o', color='red', label='Classifier Loss')\n",
    "plt.title('Downstream Classifier Loss')\n",
    "plt.xlabel('Epoch')\n",
    "plt.ylabel('Loss')\n",
    "plt.legend()\n",
    "plt.grid()\n",
    "plt.show()\n",
    "\n",
    "plt.plot(range(1, len(downstream_accuracies)+1), downstream_accuracies, marker='s', color='green', label='Classifier Accuracy')\n",
    "plt.title('Downstream Classifier Accuracy')\n",
    "plt.xlabel('Epoch')\n",
    "plt.ylabel('Accuracy (%)')\n",
    "plt.legend()\n",
    "plt.grid()\n",
    "plt.show()"
   ]
  }
 ],
 "metadata": {
  "accelerator": "GPU",
  "colab": {
   "gpuType": "T4",
   "provenance": []
  },
  "kaggle": {
   "accelerator": "nvidiaTeslaT4",
   "dataSources": [
    {
     "datasetId": 918039,
     "sourceId": 1663377,
     "sourceType": "datasetVersion"
    }
   ],
   "dockerImageVersionId": 31090,
   "isGpuEnabled": true,
   "isInternetEnabled": false,
   "language": "python",
   "sourceType": "notebook"
  },
  "kernelspec": {
   "display_name": "Python 3",
   "language": "python",
   "name": "python3"
  },
  "language_info": {
   "codemirror_mode": {
    "name": "ipython",
    "version": 3
   },
   "file_extension": ".py",
   "mimetype": "text/x-python",
   "name": "python",
   "nbconvert_exporter": "python",
   "pygments_lexer": "ipython3",
   "version": "3.11.13"
  },
  "papermill": {
   "default_parameters": {},
   "duration": null,
   "end_time": null,
   "environment_variables": {},
   "exception": null,
   "input_path": "__notebook__.ipynb",
   "output_path": "__notebook__.ipynb",
   "parameters": {},
   "start_time": "2025-07-22T02:47:57.987588",
   "version": "2.6.0"
  }
 },
 "nbformat": 4,
 "nbformat_minor": 5
}