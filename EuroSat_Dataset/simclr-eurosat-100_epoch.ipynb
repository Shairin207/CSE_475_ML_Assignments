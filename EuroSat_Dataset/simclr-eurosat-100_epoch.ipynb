{
 "cells": [
  {
   "cell_type": "code",
   "execution_count": 1,
   "id": "f799d91b",
   "metadata": {
    "execution": {
     "iopub.execute_input": "2025-08-09T19:47:45.565567Z",
     "iopub.status.busy": "2025-08-09T19:47:45.565319Z",
     "iopub.status.idle": "2025-08-09T19:47:45.568959Z",
     "shell.execute_reply": "2025-08-09T19:47:45.568425Z"
    },
    "id": "9xwPMJJ5KIVe",
    "papermill": {
     "duration": 0.009262,
     "end_time": "2025-08-09T19:47:45.569981",
     "exception": false,
     "start_time": "2025-08-09T19:47:45.560719",
     "status": "completed"
    },
    "tags": []
   },
   "outputs": [],
   "source": [
    "#pip install torch torchvision"
   ]
  },
  {
   "cell_type": "markdown",
   "id": "e3d61cd8",
   "metadata": {
    "papermill": {
     "duration": 0.002582,
     "end_time": "2025-08-09T19:47:45.575736",
     "exception": false,
     "start_time": "2025-08-09T19:47:45.573154",
     "status": "completed"
    },
    "tags": []
   },
   "source": [
    "# **Import Libraries**"
   ]
  },
  {
   "cell_type": "code",
   "execution_count": 2,
   "id": "35da482b",
   "metadata": {
    "execution": {
     "iopub.execute_input": "2025-08-09T19:47:45.582046Z",
     "iopub.status.busy": "2025-08-09T19:47:45.581841Z",
     "iopub.status.idle": "2025-08-09T19:47:54.559333Z",
     "shell.execute_reply": "2025-08-09T19:47:54.558741Z"
    },
    "papermill": {
     "duration": 8.982112,
     "end_time": "2025-08-09T19:47:54.560691",
     "exception": false,
     "start_time": "2025-08-09T19:47:45.578579",
     "status": "completed"
    },
    "tags": []
   },
   "outputs": [],
   "source": [
    "import os\n",
    "import torch\n",
    "import torch.nn as nn\n",
    "import torch.nn.functional as F\n",
    "from torchvision import transforms, datasets, models\n",
    "from torch.utils.data import DataLoader, Dataset, random_split\n",
    "import numpy as np\n",
    "import matplotlib.pyplot as plt\n",
    "import torch.optim as optim\n",
    "from copy import deepcopy"
   ]
  },
  {
   "cell_type": "markdown",
   "id": "6407da21",
   "metadata": {
    "papermill": {
     "duration": 0.002589,
     "end_time": "2025-08-09T19:47:54.566368",
     "exception": false,
     "start_time": "2025-08-09T19:47:54.563779",
     "status": "completed"
    },
    "tags": []
   },
   "source": [
    "# **Set Up**"
   ]
  },
  {
   "cell_type": "code",
   "execution_count": 3,
   "id": "97a99b19",
   "metadata": {
    "execution": {
     "iopub.execute_input": "2025-08-09T19:47:54.572808Z",
     "iopub.status.busy": "2025-08-09T19:47:54.572520Z",
     "iopub.status.idle": "2025-08-09T19:47:54.577713Z",
     "shell.execute_reply": "2025-08-09T19:47:54.577185Z"
    },
    "papermill": {
     "duration": 0.009426,
     "end_time": "2025-08-09T19:47:54.578641",
     "exception": false,
     "start_time": "2025-08-09T19:47:54.569215",
     "status": "completed"
    },
    "tags": []
   },
   "outputs": [],
   "source": [
    "# SimCLR Augmentations\n",
    "simclr_transform = transforms.Compose([\n",
    "    transforms.RandomResizedCrop(224),\n",
    "    transforms.RandomHorizontalFlip(),\n",
    "    transforms.RandomApply([transforms.ColorJitter(0.4, 0.4, 0.4, 0.1)], p=0.8),\n",
    "    transforms.RandomGrayscale(p=0.2),\n",
    "    transforms.ToTensor(),\n",
    "    transforms.Normalize(mean=[0.485, 0.456, 0.406],\n",
    "                         std=[0.229, 0.224, 0.225])\n",
    "])\n",
    "\n",
    "# Dataset wrapper for contrastive pairs\n",
    "class SimCLRDataset(Dataset):\n",
    "    def __init__(self, dataset):\n",
    "        self.dataset = dataset\n",
    "\n",
    "    def __getitem__(self, index):\n",
    "        x, _ = self.dataset[index]\n",
    "        return simclr_transform(x), simclr_transform(x)\n",
    "\n",
    "    def __len__(self):\n",
    "        return len(self.dataset)"
   ]
  },
  {
   "cell_type": "code",
   "execution_count": 4,
   "id": "befcb52a",
   "metadata": {
    "execution": {
     "iopub.execute_input": "2025-08-09T19:47:54.584948Z",
     "iopub.status.busy": "2025-08-09T19:47:54.584573Z",
     "iopub.status.idle": "2025-08-09T19:47:54.589097Z",
     "shell.execute_reply": "2025-08-09T19:47:54.588425Z"
    },
    "id": "6jmWJ9sZLIFU",
    "papermill": {
     "duration": 0.008823,
     "end_time": "2025-08-09T19:47:54.590211",
     "exception": false,
     "start_time": "2025-08-09T19:47:54.581388",
     "status": "completed"
    },
    "tags": []
   },
   "outputs": [],
   "source": [
    "class SimCLRModel(nn.Module):\n",
    "    def __init__(self, projection_dim=128):\n",
    "        super().__init__()\n",
    "        base_model = models.resnet50(pretrained=False)\n",
    "\n",
    "        # Remove the final FC layer and keep only the encoder\n",
    "        num_ftrs = base_model.fc.in_features\n",
    "        base_model.fc = nn.Identity()  # No classification layer\n",
    "\n",
    "        self.encoder = base_model\n",
    "\n",
    "        # Add projection head (MLP)\n",
    "        self.projector = nn.Sequential(\n",
    "            nn.Linear(num_ftrs, 256),\n",
    "            nn.ReLU(),\n",
    "            nn.Linear(256, projection_dim)\n",
    "        )\n",
    "\n",
    "    def forward(self, x):\n",
    "        h = self.encoder(x)  \n",
    "        z = self.projector(h)\n",
    "        return F.normalize(z, dim=1)"
   ]
  },
  {
   "cell_type": "code",
   "execution_count": 5,
   "id": "1818703c",
   "metadata": {
    "execution": {
     "iopub.execute_input": "2025-08-09T19:47:54.596708Z",
     "iopub.status.busy": "2025-08-09T19:47:54.596208Z",
     "iopub.status.idle": "2025-08-09T19:47:54.600814Z",
     "shell.execute_reply": "2025-08-09T19:47:54.600326Z"
    },
    "papermill": {
     "duration": 0.0088,
     "end_time": "2025-08-09T19:47:54.601736",
     "exception": false,
     "start_time": "2025-08-09T19:47:54.592936",
     "status": "completed"
    },
    "tags": []
   },
   "outputs": [],
   "source": [
    "def contrastive_loss(z1, z2, temperature=0.5):\n",
    "    N = z1.size(0)\n",
    "    z = torch.cat([z1, z2], dim=0)\n",
    "    sim = F.cosine_similarity(z.unsqueeze(1), z.unsqueeze(0), dim=2)\n",
    "\n",
    "    labels = torch.arange(N).repeat(2)\n",
    "    labels = (labels.unsqueeze(0) == labels.unsqueeze(1)).float().to(z.device)\n",
    "    mask = torch.eye(2 * N).bool().to(z.device)\n",
    "    labels = labels[~mask].view(2 * N, -1)\n",
    "\n",
    "    sim = sim[~mask].view(2 * N, -1) / temperature\n",
    "    loss = -torch.log((torch.exp(sim) * labels).sum(1) / torch.exp(sim).sum(1))\n",
    "    return loss.mean()"
   ]
  },
  {
   "cell_type": "code",
   "execution_count": 6,
   "id": "77430247",
   "metadata": {
    "execution": {
     "iopub.execute_input": "2025-08-09T19:47:54.607869Z",
     "iopub.status.busy": "2025-08-09T19:47:54.607473Z",
     "iopub.status.idle": "2025-08-09T19:48:38.133433Z",
     "shell.execute_reply": "2025-08-09T19:48:38.132863Z"
    },
    "papermill": {
     "duration": 43.530342,
     "end_time": "2025-08-09T19:48:38.134738",
     "exception": false,
     "start_time": "2025-08-09T19:47:54.604396",
     "status": "completed"
    },
    "tags": []
   },
   "outputs": [],
   "source": [
    "dataset_path = \"/kaggle/input/eurosat-dataset/EuroSAT\"\n",
    "\n",
    "# Load full dataset without transforms\n",
    "eurosat_raw = datasets.ImageFolder(root=dataset_path, transform=lambda x: x)\n",
    "\n",
    "# Train-Validation-Test\n",
    "train_len = int(0.7 * len(eurosat_raw))\n",
    "val_len = int(0.15 * len(eurosat_raw))\n",
    "test_len = len(eurosat_raw) - train_len - val_len\n",
    "train_ds, val_ds, test_ds = random_split(eurosat_raw, [train_len, val_len, test_len])\n",
    "\n",
    "# SimCLRDataset wrapper\n",
    "simclr_train = SimCLRDataset(train_ds)\n",
    "simclr_val = SimCLRDataset(val_ds)\n",
    "\n",
    "# DataLoaders\n",
    "train_loader = DataLoader(simclr_train, batch_size=64, shuffle=True, num_workers=2)\n",
    "val_loader = DataLoader(simclr_val, batch_size=64, shuffle=False, num_workers=2)\n",
    "test_loader= DataLoader(test_ds, batch_size=64, shuffle=False)"
   ]
  },
  {
   "cell_type": "code",
   "execution_count": 7,
   "id": "a6adf260",
   "metadata": {
    "execution": {
     "iopub.execute_input": "2025-08-09T19:48:38.141569Z",
     "iopub.status.busy": "2025-08-09T19:48:38.141379Z",
     "iopub.status.idle": "2025-08-09T19:48:38.195459Z",
     "shell.execute_reply": "2025-08-09T19:48:38.194561Z"
    },
    "papermill": {
     "duration": 0.059388,
     "end_time": "2025-08-09T19:48:38.197315",
     "exception": false,
     "start_time": "2025-08-09T19:48:38.137927",
     "status": "completed"
    },
    "tags": []
   },
   "outputs": [],
   "source": [
    "device = torch.device(\"cuda\" if torch.cuda.is_available() else \"cpu\")"
   ]
  },
  {
   "cell_type": "markdown",
   "id": "223296bc",
   "metadata": {
    "papermill": {
     "duration": 0.003531,
     "end_time": "2025-08-09T19:48:38.204487",
     "exception": false,
     "start_time": "2025-08-09T19:48:38.200956",
     "status": "completed"
    },
    "tags": []
   },
   "source": [
    "# **Encoder Trainig Loop**"
   ]
  },
  {
   "cell_type": "code",
   "execution_count": 8,
   "id": "7700f0db",
   "metadata": {
    "execution": {
     "iopub.execute_input": "2025-08-09T19:48:38.211424Z",
     "iopub.status.busy": "2025-08-09T19:48:38.211153Z",
     "iopub.status.idle": "2025-08-10T01:10:12.415104Z",
     "shell.execute_reply": "2025-08-10T01:10:12.414191Z"
    },
    "papermill": {
     "duration": 19294.217882,
     "end_time": "2025-08-10T01:10:12.425156",
     "exception": false,
     "start_time": "2025-08-09T19:48:38.207274",
     "status": "completed"
    },
    "tags": []
   },
   "outputs": [
    {
     "name": "stderr",
     "output_type": "stream",
     "text": [
      "/usr/local/lib/python3.11/dist-packages/torchvision/models/_utils.py:208: UserWarning: The parameter 'pretrained' is deprecated since 0.13 and may be removed in the future, please use 'weights' instead.\n",
      "  warnings.warn(\n",
      "/usr/local/lib/python3.11/dist-packages/torchvision/models/_utils.py:223: UserWarning: Arguments other than a weight enum or `None` for 'weights' are deprecated since 0.13 and may be removed in the future. The current behavior is equivalent to passing `weights=None`.\n",
      "  warnings.warn(msg)\n"
     ]
    },
    {
     "name": "stdout",
     "output_type": "stream",
     "text": [
      "Epoch [1/100], Loss: 4.0544\n",
      "Saved best encoder at epoch 1 with loss 4.0544\n",
      "Epoch [2/100], Loss: 3.7447\n",
      "Saved best encoder at epoch 2 with loss 3.7447\n",
      "Epoch [3/100], Loss: 3.6237\n",
      "Saved best encoder at epoch 3 with loss 3.6237\n",
      "Epoch [4/100], Loss: 3.5543\n",
      "Saved best encoder at epoch 4 with loss 3.5543\n",
      "Epoch [5/100], Loss: 3.5030\n",
      "Saved best encoder at epoch 5 with loss 3.5030\n",
      "Epoch [6/100], Loss: 3.4711\n",
      "Saved best encoder at epoch 6 with loss 3.4711\n",
      "Epoch [7/100], Loss: 3.4418\n",
      "Saved best encoder at epoch 7 with loss 3.4418\n",
      "Epoch [8/100], Loss: 3.4175\n",
      "Saved best encoder at epoch 8 with loss 3.4175\n",
      "Epoch [9/100], Loss: 3.3984\n",
      "Saved best encoder at epoch 9 with loss 3.3984\n",
      "Epoch [10/100], Loss: 3.3869\n",
      "Saved best encoder at epoch 10 with loss 3.3869\n",
      "Epoch [11/100], Loss: 3.3755\n",
      "Saved best encoder at epoch 11 with loss 3.3755\n",
      "Epoch [12/100], Loss: 3.3619\n",
      "Saved best encoder at epoch 12 with loss 3.3619\n",
      "Epoch [13/100], Loss: 3.3528\n",
      "Saved best encoder at epoch 13 with loss 3.3528\n",
      "Epoch [14/100], Loss: 3.3469\n",
      "Saved best encoder at epoch 14 with loss 3.3469\n",
      "Epoch [15/100], Loss: 3.3447\n",
      "Saved best encoder at epoch 15 with loss 3.3447\n",
      "Epoch [16/100], Loss: 3.3344\n",
      "Saved best encoder at epoch 16 with loss 3.3344\n",
      "Epoch [17/100], Loss: 3.3320\n",
      "Saved best encoder at epoch 17 with loss 3.3320\n",
      "Epoch [18/100], Loss: 3.3316\n",
      "Saved best encoder at epoch 18 with loss 3.3316\n",
      "Epoch [19/100], Loss: 3.3203\n",
      "Saved best encoder at epoch 19 with loss 3.3203\n",
      "Epoch [20/100], Loss: 3.3186\n",
      "Saved best encoder at epoch 20 with loss 3.3186\n",
      "Epoch [21/100], Loss: 3.3088\n",
      "Saved best encoder at epoch 21 with loss 3.3088\n",
      "Epoch [22/100], Loss: 3.3098\n",
      "Epoch [23/100], Loss: 3.3087\n",
      "Saved best encoder at epoch 23 with loss 3.3087\n",
      "Epoch [24/100], Loss: 3.3037\n",
      "Saved best encoder at epoch 24 with loss 3.3037\n",
      "Epoch [25/100], Loss: 3.3050\n",
      "Epoch [26/100], Loss: 3.2961\n",
      "Saved best encoder at epoch 26 with loss 3.2961\n",
      "Epoch [27/100], Loss: 3.2923\n",
      "Saved best encoder at epoch 27 with loss 3.2923\n",
      "Epoch [28/100], Loss: 3.2879\n",
      "Saved best encoder at epoch 28 with loss 3.2879\n",
      "Epoch [29/100], Loss: 3.2827\n",
      "Saved best encoder at epoch 29 with loss 3.2827\n",
      "Epoch [30/100], Loss: 3.2853\n",
      "Epoch [31/100], Loss: 3.2792\n",
      "Saved best encoder at epoch 31 with loss 3.2792\n",
      "Epoch [32/100], Loss: 3.2810\n",
      "Epoch [33/100], Loss: 3.2762\n",
      "Saved best encoder at epoch 33 with loss 3.2762\n",
      "Epoch [34/100], Loss: 3.2746\n",
      "Saved best encoder at epoch 34 with loss 3.2746\n",
      "Epoch [35/100], Loss: 3.2681\n",
      "Saved best encoder at epoch 35 with loss 3.2681\n",
      "Epoch [36/100], Loss: 3.2719\n",
      "Epoch [37/100], Loss: 3.2652\n",
      "Saved best encoder at epoch 37 with loss 3.2652\n",
      "Epoch [38/100], Loss: 3.2567\n",
      "Saved best encoder at epoch 38 with loss 3.2567\n",
      "Epoch [39/100], Loss: 3.2646\n",
      "Epoch [40/100], Loss: 3.2555\n",
      "Saved best encoder at epoch 40 with loss 3.2555\n",
      "Epoch [41/100], Loss: 3.2560\n",
      "Epoch [42/100], Loss: 3.2576\n",
      "Epoch [43/100], Loss: 3.2513\n",
      "Saved best encoder at epoch 43 with loss 3.2513\n",
      "Epoch [44/100], Loss: 3.2555\n",
      "Epoch [45/100], Loss: 3.2509\n",
      "Saved best encoder at epoch 45 with loss 3.2509\n",
      "Epoch [46/100], Loss: 3.2481\n",
      "Saved best encoder at epoch 46 with loss 3.2481\n",
      "Epoch [47/100], Loss: 3.2451\n",
      "Saved best encoder at epoch 47 with loss 3.2451\n",
      "Epoch [48/100], Loss: 3.2470\n",
      "Epoch [49/100], Loss: 3.2458\n",
      "Epoch [50/100], Loss: 3.2453\n",
      "Epoch [51/100], Loss: 3.2423\n",
      "Saved best encoder at epoch 51 with loss 3.2423\n",
      "Epoch [52/100], Loss: 3.2431\n",
      "Epoch [53/100], Loss: 3.2412\n",
      "Saved best encoder at epoch 53 with loss 3.2412\n",
      "Epoch [54/100], Loss: 3.2385\n",
      "Saved best encoder at epoch 54 with loss 3.2385\n",
      "Epoch [55/100], Loss: 3.2362\n",
      "Saved best encoder at epoch 55 with loss 3.2362\n",
      "Epoch [56/100], Loss: 3.2356\n",
      "Saved best encoder at epoch 56 with loss 3.2356\n",
      "Epoch [57/100], Loss: 3.2330\n",
      "Saved best encoder at epoch 57 with loss 3.2330\n",
      "Epoch [58/100], Loss: 3.2321\n",
      "Saved best encoder at epoch 58 with loss 3.2321\n",
      "Epoch [59/100], Loss: 3.2288\n",
      "Saved best encoder at epoch 59 with loss 3.2288\n",
      "Epoch [60/100], Loss: 3.2307\n",
      "Epoch [61/100], Loss: 3.2278\n",
      "Saved best encoder at epoch 61 with loss 3.2278\n",
      "Epoch [62/100], Loss: 3.2318\n",
      "Epoch [63/100], Loss: 3.2267\n",
      "Saved best encoder at epoch 63 with loss 3.2267\n",
      "Epoch [64/100], Loss: 3.2218\n",
      "Saved best encoder at epoch 64 with loss 3.2218\n",
      "Epoch [65/100], Loss: 3.2257\n",
      "Epoch [66/100], Loss: 3.2261\n",
      "Epoch [67/100], Loss: 3.2222\n",
      "Epoch [68/100], Loss: 3.2187\n",
      "Saved best encoder at epoch 68 with loss 3.2187\n",
      "Epoch [69/100], Loss: 3.2184\n",
      "Saved best encoder at epoch 69 with loss 3.2184\n",
      "Epoch [70/100], Loss: 3.2201\n",
      "Epoch [71/100], Loss: 3.2204\n",
      "Epoch [72/100], Loss: 3.2151\n",
      "Saved best encoder at epoch 72 with loss 3.2151\n",
      "Epoch [73/100], Loss: 3.2140\n",
      "Saved best encoder at epoch 73 with loss 3.2140\n",
      "Epoch [74/100], Loss: 3.2115\n",
      "Saved best encoder at epoch 74 with loss 3.2115\n",
      "Epoch [75/100], Loss: 3.2148\n",
      "Epoch [76/100], Loss: 3.2134\n",
      "Epoch [77/100], Loss: 3.2126\n",
      "Epoch [78/100], Loss: 3.2101\n",
      "Saved best encoder at epoch 78 with loss 3.2101\n",
      "Epoch [79/100], Loss: 3.2084\n",
      "Saved best encoder at epoch 79 with loss 3.2084\n",
      "Epoch [80/100], Loss: 3.2110\n",
      "Epoch [81/100], Loss: 3.2086\n",
      "Epoch [82/100], Loss: 3.2085\n",
      "Epoch [83/100], Loss: 3.2050\n",
      "Saved best encoder at epoch 83 with loss 3.2050\n",
      "Epoch [84/100], Loss: 3.2047\n",
      "Saved best encoder at epoch 84 with loss 3.2047\n",
      "Epoch [85/100], Loss: 3.2050\n",
      "Epoch [86/100], Loss: 3.2020\n",
      "Saved best encoder at epoch 86 with loss 3.2020\n",
      "Epoch [87/100], Loss: 3.2027\n",
      "Epoch [88/100], Loss: 3.2033\n",
      "Epoch [89/100], Loss: 3.2029\n",
      "Epoch [90/100], Loss: 3.2014\n",
      "Saved best encoder at epoch 90 with loss 3.2014\n",
      "Epoch [91/100], Loss: 3.2036\n",
      "Epoch [92/100], Loss: 3.2009\n",
      "Saved best encoder at epoch 92 with loss 3.2009\n",
      "Epoch [93/100], Loss: 3.2005\n",
      "Saved best encoder at epoch 93 with loss 3.2005\n",
      "Epoch [94/100], Loss: 3.1955\n",
      "Saved best encoder at epoch 94 with loss 3.1955\n",
      "Epoch [95/100], Loss: 3.1989\n",
      "Epoch [96/100], Loss: 3.1999\n",
      "Epoch [97/100], Loss: 3.1961\n",
      "Epoch [98/100], Loss: 3.1949\n",
      "Saved best encoder at epoch 98 with loss 3.1949\n",
      "Epoch [99/100], Loss: 3.1935\n",
      "Saved best encoder at epoch 99 with loss 3.1935\n",
      "Epoch [100/100], Loss: 3.1950\n"
     ]
    }
   ],
   "source": [
    "# Track pretext losses per epoch\n",
    "pretext_losses = []\n",
    "\n",
    "# Create SimCLR model and optimizer\n",
    "model = SimCLRModel().to(device)\n",
    "optimizer = torch.optim.Adam(model.parameters(), lr=3e-4)\n",
    "\n",
    "best_loss = float('inf')  # Initialize best loss\n",
    "\n",
    "epochs = 100\n",
    "# SimCLR Pretext Training Loop\n",
    "for epoch in range(epochs):\n",
    "    model.train()\n",
    "    total_loss = 0\n",
    "\n",
    "    for x1, x2 in train_loader:\n",
    "        x1, x2 = x1.to(device), x2.to(device)\n",
    "        z1, z2 = model(x1), model(x2)\n",
    "        loss = contrastive_loss(z1, z2)\n",
    "\n",
    "        optimizer.zero_grad()\n",
    "        loss.backward()\n",
    "        optimizer.step()\n",
    "\n",
    "        total_loss += loss.item()\n",
    "\n",
    "    avg_loss = total_loss / len(train_loader)\n",
    "    pretext_losses.append(avg_loss)\n",
    "    print(f\"Epoch [{epoch+1}/{epochs}], Loss: {avg_loss:.4f}\")\n",
    "\n",
    "    # Save best encoder checkpoint\n",
    "    if avg_loss < best_loss:\n",
    "        best_loss = avg_loss\n",
    "        torch.save(model.encoder.state_dict(), \"best_simclr_encoder.pth\")\n",
    "        print(f\"Saved best encoder at epoch {epoch+1} with loss {avg_loss:.4f}\")"
   ]
  },
  {
   "cell_type": "markdown",
   "id": "22e9cd35",
   "metadata": {
    "papermill": {
     "duration": 0.00908,
     "end_time": "2025-08-10T01:10:12.443545",
     "exception": false,
     "start_time": "2025-08-10T01:10:12.434465",
     "status": "completed"
    },
    "tags": []
   },
   "source": [
    "# **Downstream Classifier (Linear Evaluation)**"
   ]
  },
  {
   "cell_type": "code",
   "execution_count": 9,
   "id": "0c16e747",
   "metadata": {
    "execution": {
     "iopub.execute_input": "2025-08-10T01:10:12.463027Z",
     "iopub.status.busy": "2025-08-10T01:10:12.462736Z",
     "iopub.status.idle": "2025-08-10T03:20:01.537254Z",
     "shell.execute_reply": "2025-08-10T03:20:01.536437Z"
    },
    "papermill": {
     "duration": 7789.09784,
     "end_time": "2025-08-10T03:20:01.550404",
     "exception": false,
     "start_time": "2025-08-10T01:10:12.452564",
     "status": "completed"
    },
    "tags": []
   },
   "outputs": [
    {
     "name": "stdout",
     "output_type": "stream",
     "text": [
      "Epoch 1 - Train Acc: 0.8719, Val Acc: 0.8751\n",
      "Epoch 2 - Train Acc: 0.8931, Val Acc: 0.8951\n",
      "Epoch 3 - Train Acc: 0.8975, Val Acc: 0.9091\n",
      "Epoch 4 - Train Acc: 0.9060, Val Acc: 0.9079\n",
      "Epoch 5 - Train Acc: 0.9072, Val Acc: 0.9032\n",
      "Epoch 6 - Train Acc: 0.9087, Val Acc: 0.9230\n",
      "Epoch 7 - Train Acc: 0.9125, Val Acc: 0.9173\n",
      "Epoch 8 - Train Acc: 0.9140, Val Acc: 0.9114\n",
      "Epoch 9 - Train Acc: 0.9133, Val Acc: 0.9158\n",
      "Epoch 10 - Train Acc: 0.9132, Val Acc: 0.9131\n",
      "Epoch 11 - Train Acc: 0.9190, Val Acc: 0.9289\n",
      "Epoch 12 - Train Acc: 0.9213, Val Acc: 0.9207\n",
      "Epoch 13 - Train Acc: 0.9183, Val Acc: 0.9054\n",
      "Epoch 14 - Train Acc: 0.9194, Val Acc: 0.9237\n",
      "Epoch 15 - Train Acc: 0.9253, Val Acc: 0.9274\n",
      "Epoch 16 - Train Acc: 0.9232, Val Acc: 0.9205\n",
      "Epoch 17 - Train Acc: 0.9244, Val Acc: 0.9240\n",
      "Epoch 18 - Train Acc: 0.9246, Val Acc: 0.9294\n",
      "Epoch 19 - Train Acc: 0.9244, Val Acc: 0.9143\n",
      "Epoch 20 - Train Acc: 0.9219, Val Acc: 0.8978\n",
      "Epoch 21 - Train Acc: 0.9258, Val Acc: 0.9148\n",
      "Epoch 22 - Train Acc: 0.9264, Val Acc: 0.9212\n",
      "Epoch 23 - Train Acc: 0.9270, Val Acc: 0.9178\n",
      "Epoch 24 - Train Acc: 0.9290, Val Acc: 0.9244\n",
      "Epoch 25 - Train Acc: 0.9307, Val Acc: 0.9301\n",
      "Epoch 26 - Train Acc: 0.9304, Val Acc: 0.9299\n",
      "Epoch 27 - Train Acc: 0.9307, Val Acc: 0.9279\n",
      "Epoch 28 - Train Acc: 0.9299, Val Acc: 0.9212\n",
      "Epoch 29 - Train Acc: 0.9301, Val Acc: 0.9328\n",
      "Epoch 30 - Train Acc: 0.9276, Val Acc: 0.9341\n",
      "Epoch 31 - Train Acc: 0.9373, Val Acc: 0.9284\n",
      "Epoch 32 - Train Acc: 0.9346, Val Acc: 0.9281\n",
      "Epoch 33 - Train Acc: 0.9288, Val Acc: 0.9281\n",
      "Epoch 34 - Train Acc: 0.9327, Val Acc: 0.9252\n",
      "Epoch 35 - Train Acc: 0.9312, Val Acc: 0.9286\n",
      "Epoch 36 - Train Acc: 0.9310, Val Acc: 0.9190\n",
      "Epoch 37 - Train Acc: 0.9337, Val Acc: 0.9316\n",
      "Epoch 38 - Train Acc: 0.9346, Val Acc: 0.9304\n",
      "Epoch 39 - Train Acc: 0.9359, Val Acc: 0.9309\n",
      "Epoch 40 - Train Acc: 0.9346, Val Acc: 0.9346\n",
      "Epoch 41 - Train Acc: 0.9334, Val Acc: 0.9365\n",
      "Epoch 42 - Train Acc: 0.9371, Val Acc: 0.9351\n",
      "Epoch 43 - Train Acc: 0.9376, Val Acc: 0.9242\n",
      "Epoch 44 - Train Acc: 0.9320, Val Acc: 0.9336\n",
      "Epoch 45 - Train Acc: 0.9378, Val Acc: 0.9291\n",
      "Epoch 46 - Train Acc: 0.9380, Val Acc: 0.9202\n",
      "Epoch 47 - Train Acc: 0.9380, Val Acc: 0.9314\n",
      "Epoch 48 - Train Acc: 0.9367, Val Acc: 0.9188\n",
      "Epoch 49 - Train Acc: 0.9413, Val Acc: 0.9346\n",
      "Epoch 50 - Train Acc: 0.9372, Val Acc: 0.9346\n",
      "Epoch 51 - Train Acc: 0.9397, Val Acc: 0.9279\n",
      "Epoch 52 - Train Acc: 0.9394, Val Acc: 0.9274\n",
      "Epoch 53 - Train Acc: 0.9422, Val Acc: 0.9336\n",
      "Epoch 54 - Train Acc: 0.9385, Val Acc: 0.9323\n",
      "Epoch 55 - Train Acc: 0.9402, Val Acc: 0.9395\n",
      "Epoch 56 - Train Acc: 0.9402, Val Acc: 0.9321\n",
      "Epoch 57 - Train Acc: 0.9376, Val Acc: 0.9356\n",
      "Epoch 58 - Train Acc: 0.9389, Val Acc: 0.9348\n",
      "Epoch 59 - Train Acc: 0.9420, Val Acc: 0.9306\n",
      "Epoch 60 - Train Acc: 0.9404, Val Acc: 0.9378\n",
      "Epoch 61 - Train Acc: 0.9417, Val Acc: 0.9356\n",
      "Epoch 62 - Train Acc: 0.9419, Val Acc: 0.9326\n",
      "Epoch 63 - Train Acc: 0.9390, Val Acc: 0.9356\n",
      "Epoch 64 - Train Acc: 0.9420, Val Acc: 0.9363\n",
      "Epoch 65 - Train Acc: 0.9449, Val Acc: 0.9444\n",
      "Epoch 66 - Train Acc: 0.9421, Val Acc: 0.9351\n",
      "Epoch 67 - Train Acc: 0.9354, Val Acc: 0.9398\n",
      "Epoch 68 - Train Acc: 0.9419, Val Acc: 0.9341\n",
      "Epoch 69 - Train Acc: 0.9433, Val Acc: 0.9304\n",
      "Epoch 70 - Train Acc: 0.9425, Val Acc: 0.9348\n",
      "Epoch 71 - Train Acc: 0.9465, Val Acc: 0.9321\n",
      "Epoch 72 - Train Acc: 0.9451, Val Acc: 0.9368\n",
      "Epoch 73 - Train Acc: 0.9432, Val Acc: 0.9402\n",
      "Epoch 74 - Train Acc: 0.9421, Val Acc: 0.9415\n",
      "Epoch 75 - Train Acc: 0.9448, Val Acc: 0.9368\n",
      "Epoch 76 - Train Acc: 0.9417, Val Acc: 0.9432\n",
      "Epoch 77 - Train Acc: 0.9461, Val Acc: 0.9331\n",
      "Epoch 78 - Train Acc: 0.9396, Val Acc: 0.9277\n",
      "Epoch 79 - Train Acc: 0.9420, Val Acc: 0.9274\n",
      "Epoch 80 - Train Acc: 0.9447, Val Acc: 0.9363\n",
      "Epoch 81 - Train Acc: 0.9443, Val Acc: 0.9430\n",
      "Epoch 82 - Train Acc: 0.9475, Val Acc: 0.9393\n",
      "Epoch 83 - Train Acc: 0.9440, Val Acc: 0.9252\n",
      "Epoch 84 - Train Acc: 0.9449, Val Acc: 0.9311\n",
      "Epoch 85 - Train Acc: 0.9453, Val Acc: 0.9319\n",
      "Early stopping triggered!\n"
     ]
    }
   ],
   "source": [
    "# Apply classification transform to datasets\n",
    "classifier_transform = transforms.Compose([\n",
    "    transforms.Resize((224, 224)),\n",
    "    transforms.ToTensor(),\n",
    "    transforms.Normalize(mean=[0.485, 0.456, 0.406],\n",
    "                         std=[0.229, 0.224, 0.225])\n",
    "])\n",
    "\n",
    "# Apply to subsets\n",
    "train_ds.dataset.transform = classifier_transform\n",
    "val_ds.dataset.transform = classifier_transform\n",
    "test_ds.dataset.transform = classifier_transform\n",
    "\n",
    "# Dataloaders for downstream classification\n",
    "train_loader_cls = DataLoader(train_ds, batch_size=64, shuffle=True)\n",
    "val_loader_cls = DataLoader(val_ds, batch_size=64, shuffle=False)\n",
    "test_loader_cls = DataLoader(test_ds, batch_size=64, shuffle=False)\n",
    "\n",
    "# Load best pretrained encoder weights before linear evaluation\n",
    "model.encoder.load_state_dict(torch.load(\"best_simclr_encoder.pth\", map_location=device))\n",
    "\n",
    "# Freeze encoder weights\n",
    "for param in model.encoder.parameters():\n",
    "    param.requires_grad = False\n",
    "\n",
    "# Define linear classifier\n",
    "classifier = nn.Linear(2048, 10).to(device)\n",
    "\n",
    "criterion = nn.CrossEntropyLoss()\n",
    "optimizer_cls = torch.optim.Adam(classifier.parameters(), lr=1e-3)\n",
    "\n",
    "# Plot Points \n",
    "downstream_losses = []\n",
    "downstream_accuracies = []\n",
    "validation_accuracies = []\n",
    "\n",
    "# Early Stop\n",
    "patience = 20\n",
    "best_val_acc = 0\n",
    "epochs_no_improve = 0\n",
    "best_model_state = None\n",
    "\n",
    "num_epochs = 100\n",
    "# Train downstream classifier\n",
    "for epoch in range(num_epochs): \n",
    "    classifier.train()\n",
    "    running_loss = 0.0\n",
    "    correct, total = 0, 0\n",
    "\n",
    "    for images, labels in train_loader_cls:\n",
    "        images, labels = images.to(device), labels.to(device)\n",
    "        features = model.encoder(images)\n",
    "        outputs = classifier(features)\n",
    "        loss = criterion(outputs, labels)\n",
    "\n",
    "        optimizer_cls.zero_grad()\n",
    "        loss.backward()\n",
    "        optimizer_cls.step()\n",
    "\n",
    "        running_loss += loss.item()\n",
    "        _, predicted = torch.max(outputs.data, 1)\n",
    "        total += labels.size(0)\n",
    "        correct += (predicted == labels).sum().item()\n",
    "\n",
    "    train_acc = correct / total\n",
    "    downstream_losses.append(running_loss / len(train_loader_cls))\n",
    "    downstream_accuracies.append(train_acc)\n",
    "\n",
    "    # Validation\n",
    "    classifier.eval()\n",
    "    val_correct, val_total = 0, 0\n",
    "    with torch.no_grad():\n",
    "        for images, labels in val_loader_cls:\n",
    "            images, labels = images.to(device), labels.to(device)\n",
    "            features = model.encoder(images)\n",
    "            outputs = classifier(features)\n",
    "            _, predicted = torch.max(outputs.data, 1)\n",
    "            val_total += labels.size(0)\n",
    "            val_correct += (predicted == labels).sum().item()\n",
    "\n",
    "    val_acc = val_correct / val_total\n",
    "    validation_accuracies.append(val_acc)\n",
    "\n",
    "    print(f\"Epoch {epoch+1} - Train Acc: {train_acc:.4f}, Val Acc: {val_acc:.4f}\")\n",
    "\n",
    "    # Early stopping \n",
    "    if val_acc > best_val_acc:\n",
    "        best_val_acc = val_acc\n",
    "        best_model_state = deepcopy(classifier.state_dict())\n",
    "        epochs_no_improve = 0\n",
    "    else:\n",
    "        epochs_no_improve += 1\n",
    "        if epochs_no_improve >= patience:\n",
    "            print(\"Early stopping triggered!\")\n",
    "            break"
   ]
  },
  {
   "cell_type": "code",
   "execution_count": 10,
   "id": "f9eee9e7",
   "metadata": {
    "execution": {
     "iopub.execute_input": "2025-08-10T03:20:01.575984Z",
     "iopub.status.busy": "2025-08-10T03:20:01.575699Z",
     "iopub.status.idle": "2025-08-10T03:20:01.581964Z",
     "shell.execute_reply": "2025-08-10T03:20:01.581156Z"
    },
    "papermill": {
     "duration": 0.020719,
     "end_time": "2025-08-10T03:20:01.583241",
     "exception": false,
     "start_time": "2025-08-10T03:20:01.562522",
     "status": "completed"
    },
    "tags": []
   },
   "outputs": [
    {
     "name": "stdout",
     "output_type": "stream",
     "text": [
      "Best classifier model saved as 'best_downstream_classifier.pth'\n"
     ]
    }
   ],
   "source": [
    "if best_model_state is not None:\n",
    "    classifier.load_state_dict(best_model_state)\n",
    "    torch.save(classifier.state_dict(), \"best_downstream_classifier.pth\")\n",
    "    print(\"Best classifier model saved as 'best_downstream_classifier.pth'\")"
   ]
  },
  {
   "cell_type": "code",
   "execution_count": 11,
   "id": "0c7d12d5",
   "metadata": {
    "execution": {
     "iopub.execute_input": "2025-08-10T03:20:01.611108Z",
     "iopub.status.busy": "2025-08-10T03:20:01.610779Z",
     "iopub.status.idle": "2025-08-10T03:20:42.371672Z",
     "shell.execute_reply": "2025-08-10T03:20:42.370954Z"
    },
    "papermill": {
     "duration": 40.78839,
     "end_time": "2025-08-10T03:20:42.385048",
     "exception": false,
     "start_time": "2025-08-10T03:20:01.596658",
     "status": "completed"
    },
    "tags": []
   },
   "outputs": [
    {
     "name": "stdout",
     "output_type": "stream",
     "text": [
      "Final Test Accuracy: 86.59%\n"
     ]
    }
   ],
   "source": [
    "# Load the best pretrained encoder \n",
    "model.encoder.load_state_dict(torch.load(\"best_simclr_encoder.pth\", map_location=device))\n",
    "\n",
    "# Put encoder & classifier in eval mode\n",
    "model.eval()\n",
    "classifier.eval()\n",
    "\n",
    "# Test Accuracy\n",
    "correct_test, total_test = 0, 0\n",
    "\n",
    "with torch.no_grad():\n",
    "    for imgs, labels in test_loader_cls:\n",
    "        imgs, labels = imgs.to(device), labels.to(device)\n",
    "        features = model.encoder(imgs)          # frozen encoder forward\n",
    "        outputs = classifier(features)          # linear head\n",
    "        _, predicted = torch.max(outputs, 1)\n",
    "        correct_test += (predicted == labels).sum().item()\n",
    "        total_test += labels.size(0)\n",
    "\n",
    "test_acc = 100.0 * correct_test / total_test\n",
    "print(f\"Final Test Accuracy: {test_acc:.2f}%\")\n"
   ]
  },
  {
   "cell_type": "markdown",
   "id": "87104dd3",
   "metadata": {
    "papermill": {
     "duration": 0.011758,
     "end_time": "2025-08-10T03:20:42.409310",
     "exception": false,
     "start_time": "2025-08-10T03:20:42.397552",
     "status": "completed"
    },
    "tags": []
   },
   "source": [
    "# **Visualization**"
   ]
  },
  {
   "cell_type": "code",
   "execution_count": 12,
   "id": "d2489c6e",
   "metadata": {
    "execution": {
     "iopub.execute_input": "2025-08-10T03:20:42.434602Z",
     "iopub.status.busy": "2025-08-10T03:20:42.433909Z",
     "iopub.status.idle": "2025-08-10T03:20:42.614848Z",
     "shell.execute_reply": "2025-08-10T03:20:42.614198Z"
    },
    "papermill": {
     "duration": 0.194906,
     "end_time": "2025-08-10T03:20:42.616107",
     "exception": false,
     "start_time": "2025-08-10T03:20:42.421201",
     "status": "completed"
    },
    "tags": []
   },
   "outputs": [
    {
     "data": {
      "image/png": "[encoded data removed]",
      "text/plain": [
       "<Figure size 640x480 with 1 Axes>"
      ]
     },
     "metadata": {},
     "output_type": "display_data"
    }
   ],
   "source": [
    "# Pretext loss curve\n",
    "plt.plot(range(1, epochs + 1), pretext_losses, marker='o', label='Contrastive Loss')\n",
    "plt.title('SimCLR Contrastive Loss')\n",
    "plt.xlabel('Epoch')\n",
    "plt.ylabel('NT-Xent Loss')\n",
    "plt.legend()\n",
    "plt.grid()\n",
    "plt.show()"
   ]
  },
  {
   "cell_type": "code",
   "execution_count": 13,
   "id": "465e0d9c",
   "metadata": {
    "execution": {
     "iopub.execute_input": "2025-08-10T03:20:42.642516Z",
     "iopub.status.busy": "2025-08-10T03:20:42.642292Z",
     "iopub.status.idle": "2025-08-10T03:20:42.801306Z",
     "shell.execute_reply": "2025-08-10T03:20:42.800434Z"
    },
    "papermill": {
     "duration": 0.173162,
     "end_time": "2025-08-10T03:20:42.802538",
     "exception": false,
     "start_time": "2025-08-10T03:20:42.629376",
     "status": "completed"
    },
    "tags": []
   },
   "outputs": [
    {
     "data": {
      "image/png": "[encoded data removed]",
      "text/plain": [
       "<Figure size 640x480 with 1 Axes>"
      ]
     },
     "metadata": {},
     "output_type": "display_data"
    }
   ],
   "source": [
    "# Downstream Classifier Accuracy (Training)\n",
    "plt.plot(range(1, len(downstream_accuracies)+1), downstream_accuracies, marker='s', color='green', label='Classifier Accuracy')\n",
    "plt.title('Downstream Classifier Accuracy')\n",
    "plt.xlabel('Epoch')\n",
    "plt.ylabel('Accuracy (%)')\n",
    "plt.legend()\n",
    "plt.grid()\n",
    "plt.show()"
   ]
  },
  {
   "cell_type": "code",
   "execution_count": 14,
   "id": "1508d2ea",
   "metadata": {
    "execution": {
     "iopub.execute_input": "2025-08-10T03:20:42.830130Z",
     "iopub.status.busy": "2025-08-10T03:20:42.829864Z",
     "iopub.status.idle": "2025-08-10T03:20:42.976709Z",
     "shell.execute_reply": "2025-08-10T03:20:42.975962Z"
    },
    "papermill": {
     "duration": 0.161961,
     "end_time": "2025-08-10T03:20:42.977875",
     "exception": false,
     "start_time": "2025-08-10T03:20:42.815914",
     "status": "completed"
    },
    "tags": []
   },
   "outputs": [
    {
     "data": {
      "image/png": "[encoded data removed]",
      "text/plain": [
       "<Figure size 640x480 with 1 Axes>"
      ]
     },
     "metadata": {},
     "output_type": "display_data"
    }
   ],
   "source": [
    "# Downstream Classifier Loss\n",
    "plt.plot(range(1, len(downstream_losses)+1), downstream_losses, marker='o', color='red', label='Classifier Loss')\n",
    "plt.title('Downstream Classifier Loss')\n",
    "plt.xlabel('Epoch')\n",
    "plt.ylabel('Loss')\n",
    "plt.legend()\n",
    "plt.grid()\n",
    "plt.show()"
   ]
  }
 ],
 "metadata": {
  "accelerator": "GPU",
  "colab": {
   "gpuType": "T4",
   "provenance": []
  },
  "kaggle": {
   "accelerator": "gpu",
   "dataSources": [
    {
     "datasetId": 918039,
     "sourceId": 1663377,
     "sourceType": "datasetVersion"
    }
   ],
   "dockerImageVersionId": 31090,
   "isGpuEnabled": true,
   "isInternetEnabled": true,
   "language": "python",
   "sourceType": "notebook"
  },
  "kernelspec": {
   "display_name": "Python 3",
   "language": "python",
   "name": "python3"
  },
  "language_info": {
   "codemirror_mode": {
    "name": "ipython",
    "version": 3
   },
   "file_extension": ".py",
   "mimetype": "text/x-python",
   "name": "python",
   "nbconvert_exporter": "python",
   "pygments_lexer": "ipython3",
   "version": "3.11.13"
  },
  "papermill": {
   "default_parameters": {},
   "duration": 27183.206313,
   "end_time": "2025-08-10T03:20:44.734950",
   "environment_variables": {},
   "exception": null,
   "input_path": "__notebook__.ipynb",
   "output_path": "__notebook__.ipynb",
   "parameters": {},
   "start_time": "2025-08-09T19:47:41.528637",
   "version": "2.6.0"
  }
 },
 "nbformat": 4,
 "nbformat_minor": 5
}
